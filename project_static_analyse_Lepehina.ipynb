{
 "cells": [
  {
   "cell_type": "markdown",
   "id": "6f69ef5a",
   "metadata": {},
   "source": [
    "# Исследование данных сервиса аренды самокатов\n",
    "\n",
    "### Цель проекта:  \n",
    "Провести анализ данных сервиса аренды самокатов GoFast и проверить гипотезы.\n",
    "\n",
    "### Описание данных:\n",
    "\n",
    "Чтобы совершать поездки по городу, пользователи сервиса GoFast пользуются мобильным приложением. Сервисом можно пользоваться:\n",
    "1. без подписки\n",
    "* абонентская плата отсутствует;\n",
    "* стоимость одной минуты поездки — 8 рублей;\n",
    "* стоимость старта (начала поездки) — 50 рублей;\n",
    "2. с подпиской Ultra\n",
    "* абонентская плата — 199 рублей в месяц;\n",
    "* стоимость одной минуты поездки — 6 рублей;\n",
    "* стоимость старта — бесплатно.\n",
    "\n",
    "В основных данных есть информация о пользователях, их поездках и подписках.\n",
    "\n",
    "### Исследование:\n",
    "Импортируем библиотеки:"
   ]
  },
  {
   "cell_type": "code",
   "execution_count": 1,
   "id": "29a863c3",
   "metadata": {},
   "outputs": [],
   "source": [
    "import pandas as pd\n",
    "import numpy as np\n",
    "import matplotlib.pyplot as plt\n",
    "from scipy import stats as st\n",
    "from scipy.stats import binom"
   ]
  },
  {
   "cell_type": "markdown",
   "id": "3c07baa0",
   "metadata": {},
   "source": [
    "#### Шаг 1. Загрузка данных\n",
    "Загрузим данные для анализа:"
   ]
  },
  {
   "cell_type": "code",
   "execution_count": 2,
   "id": "555049e1",
   "metadata": {},
   "outputs": [],
   "source": [
    "try:\n",
    "    users = pd.read_csv('/datasets/users_go.csv') #откроем файл с данными о пользователях\n",
    "except:\n",
    "    users = pd.read_csv('https://code.s3.yandex.net//datasets/users_go.csv') #если не удалось, возьмем данные с сайта\n",
    "    \n",
    "try:\n",
    "    rides = pd.read_csv('/datasets/rides_go.csv') #откроем файл с данными о поездках\n",
    "except:\n",
    "    rides = pd.read_csv('https://code.s3.yandex.net//datasets/rides_go.csv') #если не удалось, возьмем данные с сайта\n",
    "    \n",
    "try:\n",
    "    subscriptions = pd.read_csv('/datasets/subscriptions_go.csv') #откроем файл с данными о подписках\n",
    "except:\n",
    "    subscriptions = pd.read_csv('https://code.s3.yandex.net//datasets/subscriptions_go.csv') #если не удалось, возьмем данные с сайта"
   ]
  },
  {
   "cell_type": "markdown",
   "id": "b4391f1f",
   "metadata": {},
   "source": [
    "Изучим первые строки в полученных датафреймах."
   ]
  },
  {
   "cell_type": "code",
   "execution_count": 3,
   "id": "f981b828",
   "metadata": {},
   "outputs": [
    {
     "data": {
      "text/html": [
       "<div>\n",
       "<style scoped>\n",
       "    .dataframe tbody tr th:only-of-type {\n",
       "        vertical-align: middle;\n",
       "    }\n",
       "\n",
       "    .dataframe tbody tr th {\n",
       "        vertical-align: top;\n",
       "    }\n",
       "\n",
       "    .dataframe thead th {\n",
       "        text-align: right;\n",
       "    }\n",
       "</style>\n",
       "<table border=\"1\" class=\"dataframe\">\n",
       "  <thead>\n",
       "    <tr style=\"text-align: right;\">\n",
       "      <th></th>\n",
       "      <th>user_id</th>\n",
       "      <th>name</th>\n",
       "      <th>age</th>\n",
       "      <th>city</th>\n",
       "      <th>subscription_type</th>\n",
       "    </tr>\n",
       "  </thead>\n",
       "  <tbody>\n",
       "    <tr>\n",
       "      <th>0</th>\n",
       "      <td>1</td>\n",
       "      <td>Кира</td>\n",
       "      <td>22</td>\n",
       "      <td>Тюмень</td>\n",
       "      <td>ultra</td>\n",
       "    </tr>\n",
       "    <tr>\n",
       "      <th>1</th>\n",
       "      <td>2</td>\n",
       "      <td>Станислав</td>\n",
       "      <td>31</td>\n",
       "      <td>Омск</td>\n",
       "      <td>ultra</td>\n",
       "    </tr>\n",
       "    <tr>\n",
       "      <th>2</th>\n",
       "      <td>3</td>\n",
       "      <td>Алексей</td>\n",
       "      <td>20</td>\n",
       "      <td>Москва</td>\n",
       "      <td>ultra</td>\n",
       "    </tr>\n",
       "    <tr>\n",
       "      <th>3</th>\n",
       "      <td>4</td>\n",
       "      <td>Константин</td>\n",
       "      <td>26</td>\n",
       "      <td>Ростов-на-Дону</td>\n",
       "      <td>ultra</td>\n",
       "    </tr>\n",
       "    <tr>\n",
       "      <th>4</th>\n",
       "      <td>5</td>\n",
       "      <td>Адель</td>\n",
       "      <td>28</td>\n",
       "      <td>Омск</td>\n",
       "      <td>ultra</td>\n",
       "    </tr>\n",
       "    <tr>\n",
       "      <th>5</th>\n",
       "      <td>6</td>\n",
       "      <td>Регина</td>\n",
       "      <td>25</td>\n",
       "      <td>Краснодар</td>\n",
       "      <td>ultra</td>\n",
       "    </tr>\n",
       "    <tr>\n",
       "      <th>6</th>\n",
       "      <td>7</td>\n",
       "      <td>Игорь</td>\n",
       "      <td>23</td>\n",
       "      <td>Омск</td>\n",
       "      <td>ultra</td>\n",
       "    </tr>\n",
       "    <tr>\n",
       "      <th>7</th>\n",
       "      <td>8</td>\n",
       "      <td>Юрий</td>\n",
       "      <td>23</td>\n",
       "      <td>Краснодар</td>\n",
       "      <td>ultra</td>\n",
       "    </tr>\n",
       "    <tr>\n",
       "      <th>8</th>\n",
       "      <td>9</td>\n",
       "      <td>Ян</td>\n",
       "      <td>21</td>\n",
       "      <td>Пятигорск</td>\n",
       "      <td>ultra</td>\n",
       "    </tr>\n",
       "    <tr>\n",
       "      <th>9</th>\n",
       "      <td>10</td>\n",
       "      <td>Валерий</td>\n",
       "      <td>18</td>\n",
       "      <td>Екатеринбург</td>\n",
       "      <td>ultra</td>\n",
       "    </tr>\n",
       "    <tr>\n",
       "      <th>10</th>\n",
       "      <td>11</td>\n",
       "      <td>Агата</td>\n",
       "      <td>31</td>\n",
       "      <td>Краснодар</td>\n",
       "      <td>ultra</td>\n",
       "    </tr>\n",
       "    <tr>\n",
       "      <th>11</th>\n",
       "      <td>12</td>\n",
       "      <td>Марк</td>\n",
       "      <td>27</td>\n",
       "      <td>Тюмень</td>\n",
       "      <td>ultra</td>\n",
       "    </tr>\n",
       "    <tr>\n",
       "      <th>12</th>\n",
       "      <td>13</td>\n",
       "      <td>Ева</td>\n",
       "      <td>24</td>\n",
       "      <td>Краснодар</td>\n",
       "      <td>ultra</td>\n",
       "    </tr>\n",
       "    <tr>\n",
       "      <th>13</th>\n",
       "      <td>14</td>\n",
       "      <td>Антонина</td>\n",
       "      <td>18</td>\n",
       "      <td>Пятигорск</td>\n",
       "      <td>ultra</td>\n",
       "    </tr>\n",
       "    <tr>\n",
       "      <th>14</th>\n",
       "      <td>15</td>\n",
       "      <td>Валерия</td>\n",
       "      <td>24</td>\n",
       "      <td>Тюмень</td>\n",
       "      <td>ultra</td>\n",
       "    </tr>\n",
       "    <tr>\n",
       "      <th>15</th>\n",
       "      <td>16</td>\n",
       "      <td>Амалия</td>\n",
       "      <td>27</td>\n",
       "      <td>Краснодар</td>\n",
       "      <td>ultra</td>\n",
       "    </tr>\n",
       "    <tr>\n",
       "      <th>16</th>\n",
       "      <td>17</td>\n",
       "      <td>Даниил</td>\n",
       "      <td>29</td>\n",
       "      <td>Москва</td>\n",
       "      <td>ultra</td>\n",
       "    </tr>\n",
       "    <tr>\n",
       "      <th>17</th>\n",
       "      <td>18</td>\n",
       "      <td>Аделина</td>\n",
       "      <td>24</td>\n",
       "      <td>Сочи</td>\n",
       "      <td>ultra</td>\n",
       "    </tr>\n",
       "    <tr>\n",
       "      <th>18</th>\n",
       "      <td>19</td>\n",
       "      <td>Регина</td>\n",
       "      <td>32</td>\n",
       "      <td>Тюмень</td>\n",
       "      <td>ultra</td>\n",
       "    </tr>\n",
       "    <tr>\n",
       "      <th>19</th>\n",
       "      <td>20</td>\n",
       "      <td>Игорь</td>\n",
       "      <td>23</td>\n",
       "      <td>Омск</td>\n",
       "      <td>ultra</td>\n",
       "    </tr>\n",
       "  </tbody>\n",
       "</table>\n",
       "</div>"
      ],
      "text/plain": [
       "    user_id        name  age            city subscription_type\n",
       "0         1        Кира   22          Тюмень             ultra\n",
       "1         2   Станислав   31            Омск             ultra\n",
       "2         3     Алексей   20          Москва             ultra\n",
       "3         4  Константин   26  Ростов-на-Дону             ultra\n",
       "4         5       Адель   28            Омск             ultra\n",
       "5         6      Регина   25       Краснодар             ultra\n",
       "6         7       Игорь   23            Омск             ultra\n",
       "7         8        Юрий   23       Краснодар             ultra\n",
       "8         9          Ян   21       Пятигорск             ultra\n",
       "9        10     Валерий   18    Екатеринбург             ultra\n",
       "10       11       Агата   31       Краснодар             ultra\n",
       "11       12        Марк   27          Тюмень             ultra\n",
       "12       13         Ева   24       Краснодар             ultra\n",
       "13       14    Антонина   18       Пятигорск             ultra\n",
       "14       15     Валерия   24          Тюмень             ultra\n",
       "15       16      Амалия   27       Краснодар             ultra\n",
       "16       17      Даниил   29          Москва             ultra\n",
       "17       18     Аделина   24            Сочи             ultra\n",
       "18       19      Регина   32          Тюмень             ultra\n",
       "19       20       Игорь   23            Омск             ultra"
      ]
     },
     "execution_count": 3,
     "metadata": {},
     "output_type": "execute_result"
    }
   ],
   "source": [
    "users.head(20) #прочитаем первые строки данных о пользователях"
   ]
  },
  {
   "cell_type": "code",
   "execution_count": 4,
   "id": "c88eb207",
   "metadata": {},
   "outputs": [
    {
     "data": {
      "text/html": [
       "<div>\n",
       "<style scoped>\n",
       "    .dataframe tbody tr th:only-of-type {\n",
       "        vertical-align: middle;\n",
       "    }\n",
       "\n",
       "    .dataframe tbody tr th {\n",
       "        vertical-align: top;\n",
       "    }\n",
       "\n",
       "    .dataframe thead th {\n",
       "        text-align: right;\n",
       "    }\n",
       "</style>\n",
       "<table border=\"1\" class=\"dataframe\">\n",
       "  <thead>\n",
       "    <tr style=\"text-align: right;\">\n",
       "      <th></th>\n",
       "      <th>user_id</th>\n",
       "      <th>distance</th>\n",
       "      <th>duration</th>\n",
       "      <th>date</th>\n",
       "    </tr>\n",
       "  </thead>\n",
       "  <tbody>\n",
       "    <tr>\n",
       "      <th>0</th>\n",
       "      <td>1</td>\n",
       "      <td>4409.919140</td>\n",
       "      <td>25.599769</td>\n",
       "      <td>2021-01-01</td>\n",
       "    </tr>\n",
       "    <tr>\n",
       "      <th>1</th>\n",
       "      <td>1</td>\n",
       "      <td>2617.592153</td>\n",
       "      <td>15.816871</td>\n",
       "      <td>2021-01-18</td>\n",
       "    </tr>\n",
       "    <tr>\n",
       "      <th>2</th>\n",
       "      <td>1</td>\n",
       "      <td>754.159807</td>\n",
       "      <td>6.232113</td>\n",
       "      <td>2021-04-20</td>\n",
       "    </tr>\n",
       "    <tr>\n",
       "      <th>3</th>\n",
       "      <td>1</td>\n",
       "      <td>2694.783254</td>\n",
       "      <td>18.511000</td>\n",
       "      <td>2021-08-11</td>\n",
       "    </tr>\n",
       "    <tr>\n",
       "      <th>4</th>\n",
       "      <td>1</td>\n",
       "      <td>4028.687306</td>\n",
       "      <td>26.265803</td>\n",
       "      <td>2021-08-28</td>\n",
       "    </tr>\n",
       "    <tr>\n",
       "      <th>5</th>\n",
       "      <td>1</td>\n",
       "      <td>2770.890808</td>\n",
       "      <td>16.650138</td>\n",
       "      <td>2021-10-09</td>\n",
       "    </tr>\n",
       "    <tr>\n",
       "      <th>6</th>\n",
       "      <td>1</td>\n",
       "      <td>3039.020292</td>\n",
       "      <td>14.927879</td>\n",
       "      <td>2021-10-19</td>\n",
       "    </tr>\n",
       "    <tr>\n",
       "      <th>7</th>\n",
       "      <td>1</td>\n",
       "      <td>2842.118050</td>\n",
       "      <td>23.117468</td>\n",
       "      <td>2021-11-06</td>\n",
       "    </tr>\n",
       "    <tr>\n",
       "      <th>8</th>\n",
       "      <td>1</td>\n",
       "      <td>3412.690668</td>\n",
       "      <td>15.238072</td>\n",
       "      <td>2021-11-14</td>\n",
       "    </tr>\n",
       "    <tr>\n",
       "      <th>9</th>\n",
       "      <td>1</td>\n",
       "      <td>748.690645</td>\n",
       "      <td>15.041884</td>\n",
       "      <td>2021-11-22</td>\n",
       "    </tr>\n",
       "    <tr>\n",
       "      <th>10</th>\n",
       "      <td>1</td>\n",
       "      <td>4031.020195</td>\n",
       "      <td>17.674448</td>\n",
       "      <td>2021-12-14</td>\n",
       "    </tr>\n",
       "    <tr>\n",
       "      <th>11</th>\n",
       "      <td>1</td>\n",
       "      <td>2720.609748</td>\n",
       "      <td>9.529463</td>\n",
       "      <td>2021-12-22</td>\n",
       "    </tr>\n",
       "    <tr>\n",
       "      <th>12</th>\n",
       "      <td>2</td>\n",
       "      <td>3105.086678</td>\n",
       "      <td>24.307514</td>\n",
       "      <td>2021-03-15</td>\n",
       "    </tr>\n",
       "    <tr>\n",
       "      <th>13</th>\n",
       "      <td>2</td>\n",
       "      <td>3053.519401</td>\n",
       "      <td>11.543256</td>\n",
       "      <td>2021-03-18</td>\n",
       "    </tr>\n",
       "    <tr>\n",
       "      <th>14</th>\n",
       "      <td>2</td>\n",
       "      <td>4029.116927</td>\n",
       "      <td>25.109188</td>\n",
       "      <td>2021-03-23</td>\n",
       "    </tr>\n",
       "    <tr>\n",
       "      <th>15</th>\n",
       "      <td>2</td>\n",
       "      <td>2805.786329</td>\n",
       "      <td>20.652145</td>\n",
       "      <td>2021-04-08</td>\n",
       "    </tr>\n",
       "    <tr>\n",
       "      <th>16</th>\n",
       "      <td>2</td>\n",
       "      <td>3358.595495</td>\n",
       "      <td>18.396489</td>\n",
       "      <td>2021-04-13</td>\n",
       "    </tr>\n",
       "    <tr>\n",
       "      <th>17</th>\n",
       "      <td>2</td>\n",
       "      <td>3255.338202</td>\n",
       "      <td>13.851127</td>\n",
       "      <td>2021-06-20</td>\n",
       "    </tr>\n",
       "    <tr>\n",
       "      <th>18</th>\n",
       "      <td>2</td>\n",
       "      <td>3942.817648</td>\n",
       "      <td>20.142725</td>\n",
       "      <td>2021-07-02</td>\n",
       "    </tr>\n",
       "    <tr>\n",
       "      <th>19</th>\n",
       "      <td>2</td>\n",
       "      <td>2837.905316</td>\n",
       "      <td>26.027432</td>\n",
       "      <td>2021-07-18</td>\n",
       "    </tr>\n",
       "  </tbody>\n",
       "</table>\n",
       "</div>"
      ],
      "text/plain": [
       "    user_id     distance   duration        date\n",
       "0         1  4409.919140  25.599769  2021-01-01\n",
       "1         1  2617.592153  15.816871  2021-01-18\n",
       "2         1   754.159807   6.232113  2021-04-20\n",
       "3         1  2694.783254  18.511000  2021-08-11\n",
       "4         1  4028.687306  26.265803  2021-08-28\n",
       "5         1  2770.890808  16.650138  2021-10-09\n",
       "6         1  3039.020292  14.927879  2021-10-19\n",
       "7         1  2842.118050  23.117468  2021-11-06\n",
       "8         1  3412.690668  15.238072  2021-11-14\n",
       "9         1   748.690645  15.041884  2021-11-22\n",
       "10        1  4031.020195  17.674448  2021-12-14\n",
       "11        1  2720.609748   9.529463  2021-12-22\n",
       "12        2  3105.086678  24.307514  2021-03-15\n",
       "13        2  3053.519401  11.543256  2021-03-18\n",
       "14        2  4029.116927  25.109188  2021-03-23\n",
       "15        2  2805.786329  20.652145  2021-04-08\n",
       "16        2  3358.595495  18.396489  2021-04-13\n",
       "17        2  3255.338202  13.851127  2021-06-20\n",
       "18        2  3942.817648  20.142725  2021-07-02\n",
       "19        2  2837.905316  26.027432  2021-07-18"
      ]
     },
     "execution_count": 4,
     "metadata": {},
     "output_type": "execute_result"
    }
   ],
   "source": [
    "rides.head(20) #прочитаем первые строки данных о поездках"
   ]
  },
  {
   "cell_type": "code",
   "execution_count": 5,
   "id": "36f7a22a",
   "metadata": {},
   "outputs": [
    {
     "data": {
      "text/html": [
       "<div>\n",
       "<style scoped>\n",
       "    .dataframe tbody tr th:only-of-type {\n",
       "        vertical-align: middle;\n",
       "    }\n",
       "\n",
       "    .dataframe tbody tr th {\n",
       "        vertical-align: top;\n",
       "    }\n",
       "\n",
       "    .dataframe thead th {\n",
       "        text-align: right;\n",
       "    }\n",
       "</style>\n",
       "<table border=\"1\" class=\"dataframe\">\n",
       "  <thead>\n",
       "    <tr style=\"text-align: right;\">\n",
       "      <th></th>\n",
       "      <th>subscription_type</th>\n",
       "      <th>minute_price</th>\n",
       "      <th>start_ride_price</th>\n",
       "      <th>subscription_fee</th>\n",
       "    </tr>\n",
       "  </thead>\n",
       "  <tbody>\n",
       "    <tr>\n",
       "      <th>0</th>\n",
       "      <td>free</td>\n",
       "      <td>8</td>\n",
       "      <td>50</td>\n",
       "      <td>0</td>\n",
       "    </tr>\n",
       "    <tr>\n",
       "      <th>1</th>\n",
       "      <td>ultra</td>\n",
       "      <td>6</td>\n",
       "      <td>0</td>\n",
       "      <td>199</td>\n",
       "    </tr>\n",
       "  </tbody>\n",
       "</table>\n",
       "</div>"
      ],
      "text/plain": [
       "  subscription_type  minute_price  start_ride_price  subscription_fee\n",
       "0              free             8                50                 0\n",
       "1             ultra             6                 0               199"
      ]
     },
     "execution_count": 5,
     "metadata": {},
     "output_type": "execute_result"
    }
   ],
   "source": [
    "subscriptions.head() #прочитаем данные о подписках"
   ]
  },
  {
   "cell_type": "markdown",
   "id": "8080b51e",
   "metadata": {},
   "source": [
    "Изучим общую информацию о данных."
   ]
  },
  {
   "cell_type": "code",
   "execution_count": 6,
   "id": "a4c14411",
   "metadata": {},
   "outputs": [
    {
     "name": "stdout",
     "output_type": "stream",
     "text": [
      "<class 'pandas.core.frame.DataFrame'>\n",
      "RangeIndex: 1565 entries, 0 to 1564\n",
      "Data columns (total 5 columns):\n",
      " #   Column             Non-Null Count  Dtype \n",
      "---  ------             --------------  ----- \n",
      " 0   user_id            1565 non-null   int64 \n",
      " 1   name               1565 non-null   object\n",
      " 2   age                1565 non-null   int64 \n",
      " 3   city               1565 non-null   object\n",
      " 4   subscription_type  1565 non-null   object\n",
      "dtypes: int64(2), object(3)\n",
      "memory usage: 61.3+ KB\n"
     ]
    }
   ],
   "source": [
    "users.info()"
   ]
  },
  {
   "cell_type": "code",
   "execution_count": 7,
   "id": "8f1b84be",
   "metadata": {},
   "outputs": [
    {
     "name": "stdout",
     "output_type": "stream",
     "text": [
      "<class 'pandas.core.frame.DataFrame'>\n",
      "RangeIndex: 18068 entries, 0 to 18067\n",
      "Data columns (total 4 columns):\n",
      " #   Column    Non-Null Count  Dtype  \n",
      "---  ------    --------------  -----  \n",
      " 0   user_id   18068 non-null  int64  \n",
      " 1   distance  18068 non-null  float64\n",
      " 2   duration  18068 non-null  float64\n",
      " 3   date      18068 non-null  object \n",
      "dtypes: float64(2), int64(1), object(1)\n",
      "memory usage: 564.8+ KB\n"
     ]
    }
   ],
   "source": [
    "rides.info()"
   ]
  },
  {
   "cell_type": "code",
   "execution_count": 8,
   "id": "035ebb00",
   "metadata": {},
   "outputs": [
    {
     "name": "stdout",
     "output_type": "stream",
     "text": [
      "<class 'pandas.core.frame.DataFrame'>\n",
      "RangeIndex: 2 entries, 0 to 1\n",
      "Data columns (total 4 columns):\n",
      " #   Column             Non-Null Count  Dtype \n",
      "---  ------             --------------  ----- \n",
      " 0   subscription_type  2 non-null      object\n",
      " 1   minute_price       2 non-null      int64 \n",
      " 2   start_ride_price   2 non-null      int64 \n",
      " 3   subscription_fee   2 non-null      int64 \n",
      "dtypes: int64(3), object(1)\n",
      "memory usage: 192.0+ bytes\n"
     ]
    }
   ],
   "source": [
    "subscriptions.info()"
   ]
  },
  {
   "cell_type": "markdown",
   "id": "662cb813",
   "metadata": {},
   "source": [
    "Изучив информацию о данных можно сказать, что пропусков в данных нет. Типы данных тоже везде правильные, кроме столбца `date`. Приведем его к типу данных `datetime`."
   ]
  },
  {
   "cell_type": "markdown",
   "id": "94f4a845",
   "metadata": {},
   "source": [
    "#### Шаг 2. Предобработка данных"
   ]
  },
  {
   "cell_type": "code",
   "execution_count": 9,
   "id": "a1b9792c",
   "metadata": {},
   "outputs": [
    {
     "name": "stdout",
     "output_type": "stream",
     "text": [
      "<class 'pandas.core.frame.DataFrame'>\n",
      "RangeIndex: 18068 entries, 0 to 18067\n",
      "Data columns (total 4 columns):\n",
      " #   Column    Non-Null Count  Dtype         \n",
      "---  ------    --------------  -----         \n",
      " 0   user_id   18068 non-null  int64         \n",
      " 1   distance  18068 non-null  float64       \n",
      " 2   duration  18068 non-null  float64       \n",
      " 3   date      18068 non-null  datetime64[ns]\n",
      "dtypes: datetime64[ns](1), float64(2), int64(1)\n",
      "memory usage: 564.8 KB\n"
     ]
    }
   ],
   "source": [
    "rides['date'] = pd.to_datetime(rides['date'], format='%Y-%m-%d') #приведем дату к типу datetime\n",
    "rides.info() #проверим результат"
   ]
  },
  {
   "cell_type": "markdown",
   "id": "a7271beb",
   "metadata": {},
   "source": [
    "В датафрейм `rides` добавим новый столбец `month`, хранящий номер месяца поездки."
   ]
  },
  {
   "cell_type": "code",
   "execution_count": 10,
   "id": "c366c164",
   "metadata": {},
   "outputs": [
    {
     "data": {
      "text/html": [
       "<div>\n",
       "<style scoped>\n",
       "    .dataframe tbody tr th:only-of-type {\n",
       "        vertical-align: middle;\n",
       "    }\n",
       "\n",
       "    .dataframe tbody tr th {\n",
       "        vertical-align: top;\n",
       "    }\n",
       "\n",
       "    .dataframe thead th {\n",
       "        text-align: right;\n",
       "    }\n",
       "</style>\n",
       "<table border=\"1\" class=\"dataframe\">\n",
       "  <thead>\n",
       "    <tr style=\"text-align: right;\">\n",
       "      <th></th>\n",
       "      <th>user_id</th>\n",
       "      <th>distance</th>\n",
       "      <th>duration</th>\n",
       "      <th>date</th>\n",
       "      <th>month</th>\n",
       "    </tr>\n",
       "  </thead>\n",
       "  <tbody>\n",
       "    <tr>\n",
       "      <th>0</th>\n",
       "      <td>1</td>\n",
       "      <td>4409.919140</td>\n",
       "      <td>25.599769</td>\n",
       "      <td>2021-01-01</td>\n",
       "      <td>1</td>\n",
       "    </tr>\n",
       "    <tr>\n",
       "      <th>1</th>\n",
       "      <td>1</td>\n",
       "      <td>2617.592153</td>\n",
       "      <td>15.816871</td>\n",
       "      <td>2021-01-18</td>\n",
       "      <td>1</td>\n",
       "    </tr>\n",
       "    <tr>\n",
       "      <th>2</th>\n",
       "      <td>1</td>\n",
       "      <td>754.159807</td>\n",
       "      <td>6.232113</td>\n",
       "      <td>2021-04-20</td>\n",
       "      <td>4</td>\n",
       "    </tr>\n",
       "    <tr>\n",
       "      <th>3</th>\n",
       "      <td>1</td>\n",
       "      <td>2694.783254</td>\n",
       "      <td>18.511000</td>\n",
       "      <td>2021-08-11</td>\n",
       "      <td>8</td>\n",
       "    </tr>\n",
       "    <tr>\n",
       "      <th>4</th>\n",
       "      <td>1</td>\n",
       "      <td>4028.687306</td>\n",
       "      <td>26.265803</td>\n",
       "      <td>2021-08-28</td>\n",
       "      <td>8</td>\n",
       "    </tr>\n",
       "  </tbody>\n",
       "</table>\n",
       "</div>"
      ],
      "text/plain": [
       "   user_id     distance   duration       date  month\n",
       "0        1  4409.919140  25.599769 2021-01-01      1\n",
       "1        1  2617.592153  15.816871 2021-01-18      1\n",
       "2        1   754.159807   6.232113 2021-04-20      4\n",
       "3        1  2694.783254  18.511000 2021-08-11      8\n",
       "4        1  4028.687306  26.265803 2021-08-28      8"
      ]
     },
     "execution_count": 10,
     "metadata": {},
     "output_type": "execute_result"
    }
   ],
   "source": [
    "rides['month'] = rides['date'].dt.month #сохраним номер месяца в новый столбец\n",
    "rides.head() #проверим результат"
   ]
  },
  {
   "cell_type": "markdown",
   "id": "25dab1a1",
   "metadata": {},
   "source": [
    "Посмотрим за какой период присутствуют данные:"
   ]
  },
  {
   "cell_type": "code",
   "execution_count": 11,
   "id": "54012b0a",
   "metadata": {},
   "outputs": [
    {
     "data": {
      "text/plain": [
       "Timestamp('2021-01-01 00:00:00')"
      ]
     },
     "execution_count": 11,
     "metadata": {},
     "output_type": "execute_result"
    }
   ],
   "source": [
    "rides['date'].min() #выведем самую раннюю дату"
   ]
  },
  {
   "cell_type": "code",
   "execution_count": 12,
   "id": "e1a53af7",
   "metadata": {},
   "outputs": [
    {
     "data": {
      "text/plain": [
       "Timestamp('2021-12-30 00:00:00')"
      ]
     },
     "execution_count": 12,
     "metadata": {},
     "output_type": "execute_result"
    }
   ],
   "source": [
    "rides['date'].max() #выведем самую позднюю дату"
   ]
  },
  {
   "cell_type": "markdown",
   "id": "d67798e0",
   "metadata": {},
   "source": [
    "Таким образом, мы видим, что данные присутствуют ровно за год."
   ]
  },
  {
   "cell_type": "markdown",
   "id": "e87225f5",
   "metadata": {},
   "source": [
    "Проверим наличие дубликатов в датафреймах `users` и `rides`."
   ]
  },
  {
   "cell_type": "code",
   "execution_count": 13,
   "id": "62230455",
   "metadata": {},
   "outputs": [
    {
     "data": {
      "text/plain": [
       "31"
      ]
     },
     "execution_count": 13,
     "metadata": {},
     "output_type": "execute_result"
    }
   ],
   "source": [
    "users.duplicated().sum() #проверим наличие дубликатов в датафрейме users"
   ]
  },
  {
   "cell_type": "code",
   "execution_count": 14,
   "id": "0852dc25",
   "metadata": {},
   "outputs": [
    {
     "data": {
      "text/plain": [
       "0"
      ]
     },
     "execution_count": 14,
     "metadata": {},
     "output_type": "execute_result"
    }
   ],
   "source": [
    "rides.duplicated().sum() #проверим наличие дубликатов в датафрейме rides"
   ]
  },
  {
   "cell_type": "markdown",
   "id": "7e9d525f",
   "metadata": {},
   "source": [
    "Удалим найденные дубликаты."
   ]
  },
  {
   "cell_type": "code",
   "execution_count": 15,
   "id": "1e779e87",
   "metadata": {},
   "outputs": [
    {
     "data": {
      "text/plain": [
       "0"
      ]
     },
     "execution_count": 15,
     "metadata": {},
     "output_type": "execute_result"
    }
   ],
   "source": [
    "users = users.drop_duplicates().reset_index(drop=True) #удалим дубликаты и сбросим нумерацию индексов\n",
    "users.duplicated().sum() #проверим результат"
   ]
  },
  {
   "cell_type": "markdown",
   "id": "3a75ce2a",
   "metadata": {},
   "source": [
    "Выведем уникальные значения столбца `city` и проверим на неявные дубликаты."
   ]
  },
  {
   "cell_type": "code",
   "execution_count": 16,
   "id": "cad50c6d",
   "metadata": {},
   "outputs": [
    {
     "data": {
      "text/plain": [
       "array(['Тюмень', 'Омск', 'Москва', 'Ростов-на-Дону', 'Краснодар',\n",
       "       'Пятигорск', 'Екатеринбург', 'Сочи'], dtype=object)"
      ]
     },
     "execution_count": 16,
     "metadata": {},
     "output_type": "execute_result"
    }
   ],
   "source": [
    "users['city'].unique() #проверим столбец city на неявные дубликаты"
   ]
  },
  {
   "cell_type": "markdown",
   "id": "5a681a97",
   "metadata": {},
   "source": [
    "Неявных дубликатов не выявлено. \n",
    "\n",
    "На этапе предобработки мы изучили общую информацию о данных, удалили дубликаты, привели дату в типу datetime, провели проверку на неявные дубликаты.\n",
    "\n",
    "Переходим к исследовательскому анализу данных."
   ]
  },
  {
   "cell_type": "markdown",
   "id": "ac73ba32",
   "metadata": {},
   "source": [
    "#### Шаг 3. Исследовательский анализ данных\n",
    "\n",
    "Визуализируем исходные данные и построим диаграммы для наглядности.\n",
    "\n",
    "Для начала построим график распределения городов в данных."
   ]
  },
  {
   "cell_type": "code",
   "execution_count": 17,
   "id": "841244c9",
   "metadata": {},
   "outputs": [
    {
     "data": {
      "text/plain": [
       "<Axes: title={'center': 'Распределение городов'}, xlabel='Кол-во вхождений', ylabel='Название города'>"
      ]
     },
     "execution_count": 17,
     "metadata": {},
     "output_type": "execute_result"
    },
    {
     "data": {
      "image/png": "[encoded data removed]",
      "text/plain": [
       "<Figure size 640x480 with 1 Axes>"
      ]
     },
     "metadata": {},
     "output_type": "display_data"
    }
   ],
   "source": [
    "users['city'].value_counts().sort_values().plot(y='city', kind='barh', title='Распределение городов', xlabel='Кол-во вхождений', ylabel='Название города')"
   ]
  },
  {
   "cell_type": "markdown",
   "id": "7d1efb0e",
   "metadata": {},
   "source": [
    "Судя по графику, города встречаются более-менее одинаково. Немного чаще встречается Пятигорск, а чуть реже Москва.\n",
    "\n",
    "Посмотрим как часто в данных встречаются пользователи с подпиской и без:"
   ]
  },
  {
   "cell_type": "code",
   "execution_count": 18,
   "id": "03ba81bf",
   "metadata": {},
   "outputs": [
    {
     "data": {
      "text/plain": [
       "free     835\n",
       "ultra    699\n",
       "Name: subscription_type, dtype: int64"
      ]
     },
     "execution_count": 18,
     "metadata": {},
     "output_type": "execute_result"
    }
   ],
   "source": [
    "users['subscription_type'].value_counts()"
   ]
  },
  {
   "cell_type": "markdown",
   "id": "45375b01",
   "metadata": {},
   "source": [
    "Построим диаграмму на основе полученных данных:"
   ]
  },
  {
   "cell_type": "code",
   "execution_count": 19,
   "id": "62fec299",
   "metadata": {},
   "outputs": [
    {
     "data": {
      "text/plain": [
       "<Axes: title={'center': 'Распределение пользователей с подпиской и без'}, ylabel='Доля пользователей от общего числа, в %'>"
      ]
     },
     "execution_count": 19,
     "metadata": {},
     "output_type": "execute_result"
    },
    {
     "data": {
      "image/png": "[encoded data removed]",
      "text/plain": [
       "<Figure size 640x480 with 1 Axes>"
      ]
     },
     "metadata": {},
     "output_type": "display_data"
    }
   ],
   "source": [
    "part_subscription_type = users['subscription_type'].value_counts() / users['subscription_type'].count() * 100\n",
    "part_subscription_type.plot(kind='pie', autopct='%1.0f%%', title='Распределение пользователей с подпиской и без', label='Доля пользователей от общего числа, в %')"
   ]
  },
  {
   "cell_type": "markdown",
   "id": "c7026fd9",
   "metadata": {},
   "source": [
    "Судя по графику, пользователи без подписки пользуются сервисом немного чаще."
   ]
  },
  {
   "cell_type": "markdown",
   "id": "ebbdb0bb",
   "metadata": {},
   "source": [
    "Посмотрим распределение возраста пользователей. Для начала выведем общую информацию о распределении данных в этом столбце:"
   ]
  },
  {
   "cell_type": "code",
   "execution_count": 20,
   "id": "c78e4342",
   "metadata": {},
   "outputs": [
    {
     "data": {
      "text/plain": [
       "count    1534.000000\n",
       "mean       24.903520\n",
       "std         4.572367\n",
       "min        12.000000\n",
       "25%        22.000000\n",
       "50%        25.000000\n",
       "75%        28.000000\n",
       "max        43.000000\n",
       "Name: age, dtype: float64"
      ]
     },
     "execution_count": 20,
     "metadata": {},
     "output_type": "execute_result"
    }
   ],
   "source": [
    "users['age'].describe()"
   ]
  },
  {
   "cell_type": "markdown",
   "id": "e7ad3e50",
   "metadata": {},
   "source": [
    "Визуализируем данные:"
   ]
  },
  {
   "cell_type": "code",
   "execution_count": 21,
   "id": "5f4f1f8a",
   "metadata": {},
   "outputs": [
    {
     "data": {
      "text/plain": [
       "Text(0, 0.5, 'Кол-во человек каждого возраста')"
      ]
     },
     "execution_count": 21,
     "metadata": {},
     "output_type": "execute_result"
    },
    {
     "data": {
      "image/png": "[encoded data removed]",
      "text/plain": [
       "<Figure size 640x480 with 1 Axes>"
      ]
     },
     "metadata": {},
     "output_type": "display_data"
    }
   ],
   "source": [
    "users['age'].hist() #гистограмма распределения пользователей разного возраста\n",
    "plt.title('Распределение возраста пользователей')\n",
    "plt.xlabel('Возраст пользователя')\n",
    "plt.ylabel('Кол-во человек каждого возраста')"
   ]
  },
  {
   "cell_type": "markdown",
   "id": "dbf833c5",
   "metadata": {},
   "source": [
    "Чаще всего сервисом пользуются люди возрастом 22-28 лет (первый и третий квартиль) и реже подростки и люди старше 35 лет. Минимальный возраст - 12 лет, а максимальный - 43. Распределение близко к нормальному.\n",
    "\n",
    "Визуализируем данные распределения расстояния каждой поездки."
   ]
  },
  {
   "cell_type": "code",
   "execution_count": 22,
   "id": "6d02c998",
   "metadata": {},
   "outputs": [
    {
     "data": {
      "text/plain": [
       "Text(0, 0.5, 'Кол-во поездок')"
      ]
     },
     "execution_count": 22,
     "metadata": {},
     "output_type": "execute_result"
    },
    {
     "data": {
      "image/png": "[encoded data removed]",
      "text/plain": [
       "<Figure size 640x480 with 1 Axes>"
      ]
     },
     "metadata": {},
     "output_type": "display_data"
    }
   ],
   "source": [
    "rides['distance'].hist(bins=15) #гистограмма расстояния, которое чаще всего люди проезжают за одну поездку\n",
    "plt.title('Распределение расстояния каждой поездки')\n",
    "plt.xlabel('Расстояние поездки (в метрах)')\n",
    "plt.ylabel('Кол-во поездок')"
   ]
  },
  {
   "cell_type": "markdown",
   "id": "3bed94f9",
   "metadata": {},
   "source": [
    "Наиболее часто пользователи проезжают на самокатах 2.5-4 км. Реже всего самокаты используют для аренды на дальние расстояния (более 5 км).\n",
    "\n",
    "Посмотрим гистограмму распределения продолжительности поездок."
   ]
  },
  {
   "cell_type": "code",
   "execution_count": 23,
   "id": "d7e16468",
   "metadata": {},
   "outputs": [
    {
     "data": {
      "text/plain": [
       "Text(0, 0.5, 'Кол-во поездок')"
      ]
     },
     "execution_count": 23,
     "metadata": {},
     "output_type": "execute_result"
    },
    {
     "data": {
      "image/png": "[encoded data removed]",
      "text/plain": [
       "<Figure size 640x480 with 1 Axes>"
      ]
     },
     "metadata": {},
     "output_type": "display_data"
    }
   ],
   "source": [
    "rides['duration'].hist() #гистограмма продолжительности поездок\n",
    "plt.title('Распределение продолжительности каждой поездки')\n",
    "plt.xlabel('Время поездки (в минутах)')\n",
    "plt.ylabel('Кол-во поездок')"
   ]
  },
  {
   "cell_type": "markdown",
   "id": "66a73fe1",
   "metadata": {},
   "source": [
    "По диаграмме видно, что поездка в стреднем занимает 15-20 минут, распределение близко к нормальному."
   ]
  },
  {
   "cell_type": "markdown",
   "id": "b3763dcb",
   "metadata": {},
   "source": [
    "#### Шаг 4. Объединение данных\n",
    "\n",
    "Объединим данные в один датафрейм."
   ]
  },
  {
   "cell_type": "code",
   "execution_count": 24,
   "id": "3891477c",
   "metadata": {
    "scrolled": true
   },
   "outputs": [
    {
     "data": {
      "text/html": [
       "<div>\n",
       "<style scoped>\n",
       "    .dataframe tbody tr th:only-of-type {\n",
       "        vertical-align: middle;\n",
       "    }\n",
       "\n",
       "    .dataframe tbody tr th {\n",
       "        vertical-align: top;\n",
       "    }\n",
       "\n",
       "    .dataframe thead th {\n",
       "        text-align: right;\n",
       "    }\n",
       "</style>\n",
       "<table border=\"1\" class=\"dataframe\">\n",
       "  <thead>\n",
       "    <tr style=\"text-align: right;\">\n",
       "      <th></th>\n",
       "      <th>user_id</th>\n",
       "      <th>distance</th>\n",
       "      <th>duration</th>\n",
       "      <th>date</th>\n",
       "      <th>month</th>\n",
       "      <th>name</th>\n",
       "      <th>age</th>\n",
       "      <th>city</th>\n",
       "      <th>subscription_type</th>\n",
       "    </tr>\n",
       "  </thead>\n",
       "  <tbody>\n",
       "    <tr>\n",
       "      <th>0</th>\n",
       "      <td>1</td>\n",
       "      <td>4409.919140</td>\n",
       "      <td>25.599769</td>\n",
       "      <td>2021-01-01</td>\n",
       "      <td>1</td>\n",
       "      <td>Кира</td>\n",
       "      <td>22</td>\n",
       "      <td>Тюмень</td>\n",
       "      <td>ultra</td>\n",
       "    </tr>\n",
       "    <tr>\n",
       "      <th>1</th>\n",
       "      <td>1</td>\n",
       "      <td>2617.592153</td>\n",
       "      <td>15.816871</td>\n",
       "      <td>2021-01-18</td>\n",
       "      <td>1</td>\n",
       "      <td>Кира</td>\n",
       "      <td>22</td>\n",
       "      <td>Тюмень</td>\n",
       "      <td>ultra</td>\n",
       "    </tr>\n",
       "    <tr>\n",
       "      <th>2</th>\n",
       "      <td>1</td>\n",
       "      <td>754.159807</td>\n",
       "      <td>6.232113</td>\n",
       "      <td>2021-04-20</td>\n",
       "      <td>4</td>\n",
       "      <td>Кира</td>\n",
       "      <td>22</td>\n",
       "      <td>Тюмень</td>\n",
       "      <td>ultra</td>\n",
       "    </tr>\n",
       "    <tr>\n",
       "      <th>3</th>\n",
       "      <td>1</td>\n",
       "      <td>2694.783254</td>\n",
       "      <td>18.511000</td>\n",
       "      <td>2021-08-11</td>\n",
       "      <td>8</td>\n",
       "      <td>Кира</td>\n",
       "      <td>22</td>\n",
       "      <td>Тюмень</td>\n",
       "      <td>ultra</td>\n",
       "    </tr>\n",
       "    <tr>\n",
       "      <th>4</th>\n",
       "      <td>1</td>\n",
       "      <td>4028.687306</td>\n",
       "      <td>26.265803</td>\n",
       "      <td>2021-08-28</td>\n",
       "      <td>8</td>\n",
       "      <td>Кира</td>\n",
       "      <td>22</td>\n",
       "      <td>Тюмень</td>\n",
       "      <td>ultra</td>\n",
       "    </tr>\n",
       "    <tr>\n",
       "      <th>5</th>\n",
       "      <td>1</td>\n",
       "      <td>2770.890808</td>\n",
       "      <td>16.650138</td>\n",
       "      <td>2021-10-09</td>\n",
       "      <td>10</td>\n",
       "      <td>Кира</td>\n",
       "      <td>22</td>\n",
       "      <td>Тюмень</td>\n",
       "      <td>ultra</td>\n",
       "    </tr>\n",
       "    <tr>\n",
       "      <th>6</th>\n",
       "      <td>1</td>\n",
       "      <td>3039.020292</td>\n",
       "      <td>14.927879</td>\n",
       "      <td>2021-10-19</td>\n",
       "      <td>10</td>\n",
       "      <td>Кира</td>\n",
       "      <td>22</td>\n",
       "      <td>Тюмень</td>\n",
       "      <td>ultra</td>\n",
       "    </tr>\n",
       "    <tr>\n",
       "      <th>7</th>\n",
       "      <td>1</td>\n",
       "      <td>2842.118050</td>\n",
       "      <td>23.117468</td>\n",
       "      <td>2021-11-06</td>\n",
       "      <td>11</td>\n",
       "      <td>Кира</td>\n",
       "      <td>22</td>\n",
       "      <td>Тюмень</td>\n",
       "      <td>ultra</td>\n",
       "    </tr>\n",
       "    <tr>\n",
       "      <th>8</th>\n",
       "      <td>1</td>\n",
       "      <td>3412.690668</td>\n",
       "      <td>15.238072</td>\n",
       "      <td>2021-11-14</td>\n",
       "      <td>11</td>\n",
       "      <td>Кира</td>\n",
       "      <td>22</td>\n",
       "      <td>Тюмень</td>\n",
       "      <td>ultra</td>\n",
       "    </tr>\n",
       "    <tr>\n",
       "      <th>9</th>\n",
       "      <td>1</td>\n",
       "      <td>748.690645</td>\n",
       "      <td>15.041884</td>\n",
       "      <td>2021-11-22</td>\n",
       "      <td>11</td>\n",
       "      <td>Кира</td>\n",
       "      <td>22</td>\n",
       "      <td>Тюмень</td>\n",
       "      <td>ultra</td>\n",
       "    </tr>\n",
       "  </tbody>\n",
       "</table>\n",
       "</div>"
      ],
      "text/plain": [
       "   user_id     distance   duration       date  month  name  age    city  \\\n",
       "0        1  4409.919140  25.599769 2021-01-01      1  Кира   22  Тюмень   \n",
       "1        1  2617.592153  15.816871 2021-01-18      1  Кира   22  Тюмень   \n",
       "2        1   754.159807   6.232113 2021-04-20      4  Кира   22  Тюмень   \n",
       "3        1  2694.783254  18.511000 2021-08-11      8  Кира   22  Тюмень   \n",
       "4        1  4028.687306  26.265803 2021-08-28      8  Кира   22  Тюмень   \n",
       "5        1  2770.890808  16.650138 2021-10-09     10  Кира   22  Тюмень   \n",
       "6        1  3039.020292  14.927879 2021-10-19     10  Кира   22  Тюмень   \n",
       "7        1  2842.118050  23.117468 2021-11-06     11  Кира   22  Тюмень   \n",
       "8        1  3412.690668  15.238072 2021-11-14     11  Кира   22  Тюмень   \n",
       "9        1   748.690645  15.041884 2021-11-22     11  Кира   22  Тюмень   \n",
       "\n",
       "  subscription_type  \n",
       "0             ultra  \n",
       "1             ultra  \n",
       "2             ultra  \n",
       "3             ultra  \n",
       "4             ultra  \n",
       "5             ultra  \n",
       "6             ultra  \n",
       "7             ultra  \n",
       "8             ultra  \n",
       "9             ultra  "
      ]
     },
     "execution_count": 24,
     "metadata": {},
     "output_type": "execute_result"
    }
   ],
   "source": [
    "data = rides.merge(users, on='user_id', how='inner') #объединим пользователей и поездки по общему полю user_id\n",
    "data.head(10) #проверим результат"
   ]
  },
  {
   "cell_type": "code",
   "execution_count": 25,
   "id": "a518419f",
   "metadata": {},
   "outputs": [
    {
     "data": {
      "text/html": [
       "<div>\n",
       "<style scoped>\n",
       "    .dataframe tbody tr th:only-of-type {\n",
       "        vertical-align: middle;\n",
       "    }\n",
       "\n",
       "    .dataframe tbody tr th {\n",
       "        vertical-align: top;\n",
       "    }\n",
       "\n",
       "    .dataframe thead th {\n",
       "        text-align: right;\n",
       "    }\n",
       "</style>\n",
       "<table border=\"1\" class=\"dataframe\">\n",
       "  <thead>\n",
       "    <tr style=\"text-align: right;\">\n",
       "      <th></th>\n",
       "      <th>user_id</th>\n",
       "      <th>distance</th>\n",
       "      <th>duration</th>\n",
       "      <th>date</th>\n",
       "      <th>month</th>\n",
       "      <th>name</th>\n",
       "      <th>age</th>\n",
       "      <th>city</th>\n",
       "      <th>subscription_type</th>\n",
       "      <th>minute_price</th>\n",
       "      <th>start_ride_price</th>\n",
       "      <th>subscription_fee</th>\n",
       "    </tr>\n",
       "  </thead>\n",
       "  <tbody>\n",
       "    <tr>\n",
       "      <th>0</th>\n",
       "      <td>1</td>\n",
       "      <td>4409.919140</td>\n",
       "      <td>25.599769</td>\n",
       "      <td>2021-01-01</td>\n",
       "      <td>1</td>\n",
       "      <td>Кира</td>\n",
       "      <td>22</td>\n",
       "      <td>Тюмень</td>\n",
       "      <td>ultra</td>\n",
       "      <td>6</td>\n",
       "      <td>0</td>\n",
       "      <td>199</td>\n",
       "    </tr>\n",
       "    <tr>\n",
       "      <th>1</th>\n",
       "      <td>1</td>\n",
       "      <td>2617.592153</td>\n",
       "      <td>15.816871</td>\n",
       "      <td>2021-01-18</td>\n",
       "      <td>1</td>\n",
       "      <td>Кира</td>\n",
       "      <td>22</td>\n",
       "      <td>Тюмень</td>\n",
       "      <td>ultra</td>\n",
       "      <td>6</td>\n",
       "      <td>0</td>\n",
       "      <td>199</td>\n",
       "    </tr>\n",
       "    <tr>\n",
       "      <th>2</th>\n",
       "      <td>1</td>\n",
       "      <td>754.159807</td>\n",
       "      <td>6.232113</td>\n",
       "      <td>2021-04-20</td>\n",
       "      <td>4</td>\n",
       "      <td>Кира</td>\n",
       "      <td>22</td>\n",
       "      <td>Тюмень</td>\n",
       "      <td>ultra</td>\n",
       "      <td>6</td>\n",
       "      <td>0</td>\n",
       "      <td>199</td>\n",
       "    </tr>\n",
       "    <tr>\n",
       "      <th>3</th>\n",
       "      <td>1</td>\n",
       "      <td>2694.783254</td>\n",
       "      <td>18.511000</td>\n",
       "      <td>2021-08-11</td>\n",
       "      <td>8</td>\n",
       "      <td>Кира</td>\n",
       "      <td>22</td>\n",
       "      <td>Тюмень</td>\n",
       "      <td>ultra</td>\n",
       "      <td>6</td>\n",
       "      <td>0</td>\n",
       "      <td>199</td>\n",
       "    </tr>\n",
       "    <tr>\n",
       "      <th>4</th>\n",
       "      <td>1</td>\n",
       "      <td>4028.687306</td>\n",
       "      <td>26.265803</td>\n",
       "      <td>2021-08-28</td>\n",
       "      <td>8</td>\n",
       "      <td>Кира</td>\n",
       "      <td>22</td>\n",
       "      <td>Тюмень</td>\n",
       "      <td>ultra</td>\n",
       "      <td>6</td>\n",
       "      <td>0</td>\n",
       "      <td>199</td>\n",
       "    </tr>\n",
       "    <tr>\n",
       "      <th>5</th>\n",
       "      <td>1</td>\n",
       "      <td>2770.890808</td>\n",
       "      <td>16.650138</td>\n",
       "      <td>2021-10-09</td>\n",
       "      <td>10</td>\n",
       "      <td>Кира</td>\n",
       "      <td>22</td>\n",
       "      <td>Тюмень</td>\n",
       "      <td>ultra</td>\n",
       "      <td>6</td>\n",
       "      <td>0</td>\n",
       "      <td>199</td>\n",
       "    </tr>\n",
       "    <tr>\n",
       "      <th>6</th>\n",
       "      <td>1</td>\n",
       "      <td>3039.020292</td>\n",
       "      <td>14.927879</td>\n",
       "      <td>2021-10-19</td>\n",
       "      <td>10</td>\n",
       "      <td>Кира</td>\n",
       "      <td>22</td>\n",
       "      <td>Тюмень</td>\n",
       "      <td>ultra</td>\n",
       "      <td>6</td>\n",
       "      <td>0</td>\n",
       "      <td>199</td>\n",
       "    </tr>\n",
       "    <tr>\n",
       "      <th>7</th>\n",
       "      <td>1</td>\n",
       "      <td>2842.118050</td>\n",
       "      <td>23.117468</td>\n",
       "      <td>2021-11-06</td>\n",
       "      <td>11</td>\n",
       "      <td>Кира</td>\n",
       "      <td>22</td>\n",
       "      <td>Тюмень</td>\n",
       "      <td>ultra</td>\n",
       "      <td>6</td>\n",
       "      <td>0</td>\n",
       "      <td>199</td>\n",
       "    </tr>\n",
       "    <tr>\n",
       "      <th>8</th>\n",
       "      <td>1</td>\n",
       "      <td>3412.690668</td>\n",
       "      <td>15.238072</td>\n",
       "      <td>2021-11-14</td>\n",
       "      <td>11</td>\n",
       "      <td>Кира</td>\n",
       "      <td>22</td>\n",
       "      <td>Тюмень</td>\n",
       "      <td>ultra</td>\n",
       "      <td>6</td>\n",
       "      <td>0</td>\n",
       "      <td>199</td>\n",
       "    </tr>\n",
       "    <tr>\n",
       "      <th>9</th>\n",
       "      <td>1</td>\n",
       "      <td>748.690645</td>\n",
       "      <td>15.041884</td>\n",
       "      <td>2021-11-22</td>\n",
       "      <td>11</td>\n",
       "      <td>Кира</td>\n",
       "      <td>22</td>\n",
       "      <td>Тюмень</td>\n",
       "      <td>ultra</td>\n",
       "      <td>6</td>\n",
       "      <td>0</td>\n",
       "      <td>199</td>\n",
       "    </tr>\n",
       "  </tbody>\n",
       "</table>\n",
       "</div>"
      ],
      "text/plain": [
       "   user_id     distance   duration       date  month  name  age    city  \\\n",
       "0        1  4409.919140  25.599769 2021-01-01      1  Кира   22  Тюмень   \n",
       "1        1  2617.592153  15.816871 2021-01-18      1  Кира   22  Тюмень   \n",
       "2        1   754.159807   6.232113 2021-04-20      4  Кира   22  Тюмень   \n",
       "3        1  2694.783254  18.511000 2021-08-11      8  Кира   22  Тюмень   \n",
       "4        1  4028.687306  26.265803 2021-08-28      8  Кира   22  Тюмень   \n",
       "5        1  2770.890808  16.650138 2021-10-09     10  Кира   22  Тюмень   \n",
       "6        1  3039.020292  14.927879 2021-10-19     10  Кира   22  Тюмень   \n",
       "7        1  2842.118050  23.117468 2021-11-06     11  Кира   22  Тюмень   \n",
       "8        1  3412.690668  15.238072 2021-11-14     11  Кира   22  Тюмень   \n",
       "9        1   748.690645  15.041884 2021-11-22     11  Кира   22  Тюмень   \n",
       "\n",
       "  subscription_type  minute_price  start_ride_price  subscription_fee  \n",
       "0             ultra             6                 0               199  \n",
       "1             ultra             6                 0               199  \n",
       "2             ultra             6                 0               199  \n",
       "3             ultra             6                 0               199  \n",
       "4             ultra             6                 0               199  \n",
       "5             ultra             6                 0               199  \n",
       "6             ultra             6                 0               199  \n",
       "7             ultra             6                 0               199  \n",
       "8             ultra             6                 0               199  \n",
       "9             ultra             6                 0               199  "
      ]
     },
     "execution_count": 25,
     "metadata": {},
     "output_type": "execute_result"
    }
   ],
   "source": [
    "data = data.merge(subscriptions, on='subscription_type', how='inner') #объединим новый датафрейм data и данные о поездках по типу подписки\n",
    "data.head(10) #проверим результат"
   ]
  },
  {
   "cell_type": "code",
   "execution_count": 26,
   "id": "5a9b4440",
   "metadata": {},
   "outputs": [
    {
     "name": "stdout",
     "output_type": "stream",
     "text": [
      "<class 'pandas.core.frame.DataFrame'>\n",
      "Int64Index: 18068 entries, 0 to 18067\n",
      "Data columns (total 12 columns):\n",
      " #   Column             Non-Null Count  Dtype         \n",
      "---  ------             --------------  -----         \n",
      " 0   user_id            18068 non-null  int64         \n",
      " 1   distance           18068 non-null  float64       \n",
      " 2   duration           18068 non-null  float64       \n",
      " 3   date               18068 non-null  datetime64[ns]\n",
      " 4   month              18068 non-null  int64         \n",
      " 5   name               18068 non-null  object        \n",
      " 6   age                18068 non-null  int64         \n",
      " 7   city               18068 non-null  object        \n",
      " 8   subscription_type  18068 non-null  object        \n",
      " 9   minute_price       18068 non-null  int64         \n",
      " 10  start_ride_price   18068 non-null  int64         \n",
      " 11  subscription_fee   18068 non-null  int64         \n",
      "dtypes: datetime64[ns](1), float64(2), int64(6), object(3)\n",
      "memory usage: 1.8+ MB\n"
     ]
    }
   ],
   "source": [
    "data.info() #проверим размерность получившейся таблицы"
   ]
  },
  {
   "cell_type": "markdown",
   "id": "d6c5d48d",
   "metadata": {},
   "source": [
    "Размерность получившейся таблицы совпадает с данными исходных датафреймов, соединение прошло верно."
   ]
  },
  {
   "cell_type": "markdown",
   "id": "2b155fa1",
   "metadata": {},
   "source": [
    "Создадим еще два датафрейма из общего, один будет содержать данные о пользователях с подпиской, другой - без."
   ]
  },
  {
   "cell_type": "code",
   "execution_count": 27,
   "id": "28a695b5",
   "metadata": {},
   "outputs": [
    {
     "data": {
      "text/html": [
       "<div>\n",
       "<style scoped>\n",
       "    .dataframe tbody tr th:only-of-type {\n",
       "        vertical-align: middle;\n",
       "    }\n",
       "\n",
       "    .dataframe tbody tr th {\n",
       "        vertical-align: top;\n",
       "    }\n",
       "\n",
       "    .dataframe thead th {\n",
       "        text-align: right;\n",
       "    }\n",
       "</style>\n",
       "<table border=\"1\" class=\"dataframe\">\n",
       "  <thead>\n",
       "    <tr style=\"text-align: right;\">\n",
       "      <th></th>\n",
       "      <th>user_id</th>\n",
       "      <th>distance</th>\n",
       "      <th>duration</th>\n",
       "      <th>date</th>\n",
       "      <th>month</th>\n",
       "      <th>name</th>\n",
       "      <th>age</th>\n",
       "      <th>city</th>\n",
       "      <th>subscription_type</th>\n",
       "      <th>minute_price</th>\n",
       "      <th>start_ride_price</th>\n",
       "      <th>subscription_fee</th>\n",
       "    </tr>\n",
       "  </thead>\n",
       "  <tbody>\n",
       "    <tr>\n",
       "      <th>0</th>\n",
       "      <td>700</td>\n",
       "      <td>2515.690719</td>\n",
       "      <td>14.944286</td>\n",
       "      <td>2021-01-02</td>\n",
       "      <td>1</td>\n",
       "      <td>Айдар</td>\n",
       "      <td>22</td>\n",
       "      <td>Омск</td>\n",
       "      <td>free</td>\n",
       "      <td>8</td>\n",
       "      <td>50</td>\n",
       "      <td>0</td>\n",
       "    </tr>\n",
       "    <tr>\n",
       "      <th>1</th>\n",
       "      <td>700</td>\n",
       "      <td>846.932642</td>\n",
       "      <td>16.234663</td>\n",
       "      <td>2021-02-01</td>\n",
       "      <td>2</td>\n",
       "      <td>Айдар</td>\n",
       "      <td>22</td>\n",
       "      <td>Омск</td>\n",
       "      <td>free</td>\n",
       "      <td>8</td>\n",
       "      <td>50</td>\n",
       "      <td>0</td>\n",
       "    </tr>\n",
       "    <tr>\n",
       "      <th>2</th>\n",
       "      <td>700</td>\n",
       "      <td>4004.434142</td>\n",
       "      <td>20.016628</td>\n",
       "      <td>2021-02-04</td>\n",
       "      <td>2</td>\n",
       "      <td>Айдар</td>\n",
       "      <td>22</td>\n",
       "      <td>Омск</td>\n",
       "      <td>free</td>\n",
       "      <td>8</td>\n",
       "      <td>50</td>\n",
       "      <td>0</td>\n",
       "    </tr>\n",
       "    <tr>\n",
       "      <th>3</th>\n",
       "      <td>700</td>\n",
       "      <td>1205.911290</td>\n",
       "      <td>9.782872</td>\n",
       "      <td>2021-02-10</td>\n",
       "      <td>2</td>\n",
       "      <td>Айдар</td>\n",
       "      <td>22</td>\n",
       "      <td>Омск</td>\n",
       "      <td>free</td>\n",
       "      <td>8</td>\n",
       "      <td>50</td>\n",
       "      <td>0</td>\n",
       "    </tr>\n",
       "    <tr>\n",
       "      <th>4</th>\n",
       "      <td>700</td>\n",
       "      <td>3047.379435</td>\n",
       "      <td>17.427673</td>\n",
       "      <td>2021-02-14</td>\n",
       "      <td>2</td>\n",
       "      <td>Айдар</td>\n",
       "      <td>22</td>\n",
       "      <td>Омск</td>\n",
       "      <td>free</td>\n",
       "      <td>8</td>\n",
       "      <td>50</td>\n",
       "      <td>0</td>\n",
       "    </tr>\n",
       "  </tbody>\n",
       "</table>\n",
       "</div>"
      ],
      "text/plain": [
       "   user_id     distance   duration       date  month   name  age  city  \\\n",
       "0      700  2515.690719  14.944286 2021-01-02      1  Айдар   22  Омск   \n",
       "1      700   846.932642  16.234663 2021-02-01      2  Айдар   22  Омск   \n",
       "2      700  4004.434142  20.016628 2021-02-04      2  Айдар   22  Омск   \n",
       "3      700  1205.911290   9.782872 2021-02-10      2  Айдар   22  Омск   \n",
       "4      700  3047.379435  17.427673 2021-02-14      2  Айдар   22  Омск   \n",
       "\n",
       "  subscription_type  minute_price  start_ride_price  subscription_fee  \n",
       "0              free             8                50                 0  \n",
       "1              free             8                50                 0  \n",
       "2              free             8                50                 0  \n",
       "3              free             8                50                 0  \n",
       "4              free             8                50                 0  "
      ]
     },
     "execution_count": 27,
     "metadata": {},
     "output_type": "execute_result"
    }
   ],
   "source": [
    "subscription_free = data[data['subscription_type'] == 'free'] #отфильтруем данные о пользователях без подписки\n",
    "subscription_free = subscription_free.reset_index(drop=True) \n",
    "subscription_free.head() #проверим результат"
   ]
  },
  {
   "cell_type": "code",
   "execution_count": 28,
   "id": "7be82d91",
   "metadata": {},
   "outputs": [
    {
     "data": {
      "text/html": [
       "<div>\n",
       "<style scoped>\n",
       "    .dataframe tbody tr th:only-of-type {\n",
       "        vertical-align: middle;\n",
       "    }\n",
       "\n",
       "    .dataframe tbody tr th {\n",
       "        vertical-align: top;\n",
       "    }\n",
       "\n",
       "    .dataframe thead th {\n",
       "        text-align: right;\n",
       "    }\n",
       "</style>\n",
       "<table border=\"1\" class=\"dataframe\">\n",
       "  <thead>\n",
       "    <tr style=\"text-align: right;\">\n",
       "      <th></th>\n",
       "      <th>user_id</th>\n",
       "      <th>distance</th>\n",
       "      <th>duration</th>\n",
       "      <th>date</th>\n",
       "      <th>month</th>\n",
       "      <th>name</th>\n",
       "      <th>age</th>\n",
       "      <th>city</th>\n",
       "      <th>subscription_type</th>\n",
       "      <th>minute_price</th>\n",
       "      <th>start_ride_price</th>\n",
       "      <th>subscription_fee</th>\n",
       "    </tr>\n",
       "  </thead>\n",
       "  <tbody>\n",
       "    <tr>\n",
       "      <th>0</th>\n",
       "      <td>1</td>\n",
       "      <td>4409.919140</td>\n",
       "      <td>25.599769</td>\n",
       "      <td>2021-01-01</td>\n",
       "      <td>1</td>\n",
       "      <td>Кира</td>\n",
       "      <td>22</td>\n",
       "      <td>Тюмень</td>\n",
       "      <td>ultra</td>\n",
       "      <td>6</td>\n",
       "      <td>0</td>\n",
       "      <td>199</td>\n",
       "    </tr>\n",
       "    <tr>\n",
       "      <th>1</th>\n",
       "      <td>1</td>\n",
       "      <td>2617.592153</td>\n",
       "      <td>15.816871</td>\n",
       "      <td>2021-01-18</td>\n",
       "      <td>1</td>\n",
       "      <td>Кира</td>\n",
       "      <td>22</td>\n",
       "      <td>Тюмень</td>\n",
       "      <td>ultra</td>\n",
       "      <td>6</td>\n",
       "      <td>0</td>\n",
       "      <td>199</td>\n",
       "    </tr>\n",
       "    <tr>\n",
       "      <th>2</th>\n",
       "      <td>1</td>\n",
       "      <td>754.159807</td>\n",
       "      <td>6.232113</td>\n",
       "      <td>2021-04-20</td>\n",
       "      <td>4</td>\n",
       "      <td>Кира</td>\n",
       "      <td>22</td>\n",
       "      <td>Тюмень</td>\n",
       "      <td>ultra</td>\n",
       "      <td>6</td>\n",
       "      <td>0</td>\n",
       "      <td>199</td>\n",
       "    </tr>\n",
       "    <tr>\n",
       "      <th>3</th>\n",
       "      <td>1</td>\n",
       "      <td>2694.783254</td>\n",
       "      <td>18.511000</td>\n",
       "      <td>2021-08-11</td>\n",
       "      <td>8</td>\n",
       "      <td>Кира</td>\n",
       "      <td>22</td>\n",
       "      <td>Тюмень</td>\n",
       "      <td>ultra</td>\n",
       "      <td>6</td>\n",
       "      <td>0</td>\n",
       "      <td>199</td>\n",
       "    </tr>\n",
       "    <tr>\n",
       "      <th>4</th>\n",
       "      <td>1</td>\n",
       "      <td>4028.687306</td>\n",
       "      <td>26.265803</td>\n",
       "      <td>2021-08-28</td>\n",
       "      <td>8</td>\n",
       "      <td>Кира</td>\n",
       "      <td>22</td>\n",
       "      <td>Тюмень</td>\n",
       "      <td>ultra</td>\n",
       "      <td>6</td>\n",
       "      <td>0</td>\n",
       "      <td>199</td>\n",
       "    </tr>\n",
       "  </tbody>\n",
       "</table>\n",
       "</div>"
      ],
      "text/plain": [
       "   user_id     distance   duration       date  month  name  age    city  \\\n",
       "0        1  4409.919140  25.599769 2021-01-01      1  Кира   22  Тюмень   \n",
       "1        1  2617.592153  15.816871 2021-01-18      1  Кира   22  Тюмень   \n",
       "2        1   754.159807   6.232113 2021-04-20      4  Кира   22  Тюмень   \n",
       "3        1  2694.783254  18.511000 2021-08-11      8  Кира   22  Тюмень   \n",
       "4        1  4028.687306  26.265803 2021-08-28      8  Кира   22  Тюмень   \n",
       "\n",
       "  subscription_type  minute_price  start_ride_price  subscription_fee  \n",
       "0             ultra             6                 0               199  \n",
       "1             ultra             6                 0               199  \n",
       "2             ultra             6                 0               199  \n",
       "3             ultra             6                 0               199  \n",
       "4             ultra             6                 0               199  "
      ]
     },
     "execution_count": 28,
     "metadata": {},
     "output_type": "execute_result"
    }
   ],
   "source": [
    "subscription_ultra = data[data['subscription_type'] == 'ultra'] #отфильтруем данные о пользователях с подпиской\n",
    "subscription_ultra = subscription_ultra.reset_index(drop=True)\n",
    "subscription_ultra.head() #проверим результат"
   ]
  },
  {
   "cell_type": "markdown",
   "id": "da243446",
   "metadata": {},
   "source": [
    "Построим для наглядности гистограммы для пользователей с подпиской и без."
   ]
  },
  {
   "cell_type": "code",
   "execution_count": 29,
   "id": "d2295eee",
   "metadata": {},
   "outputs": [
    {
     "data": {
      "text/plain": [
       "Text(0, 0.5, 'Кол-во поездок')"
      ]
     },
     "execution_count": 29,
     "metadata": {},
     "output_type": "execute_result"
    },
    {
     "data": {
      "image/png": "[encoded data removed]",
      "text/plain": [
       "<Figure size 640x480 with 1 Axes>"
      ]
     },
     "metadata": {},
     "output_type": "display_data"
    }
   ],
   "source": [
    "subscription_free['duration'].plot(kind='hist', histtype='step', label='Без подписки', legend=True, grid=True)\n",
    "subscription_ultra['duration'].plot(kind='hist', histtype='step', label='С подпиской', legend=True, grid=True)\n",
    "plt.title('Распределение продолжительности поездки для пользователей с подпиской и без')\n",
    "plt.xlabel('Время поездки (в минутах)')\n",
    "plt.ylabel('Кол-во поездок')"
   ]
  },
  {
   "cell_type": "markdown",
   "id": "631fe2ac",
   "metadata": {},
   "source": [
    "По диаграмме видно, что пользователи без подписки иногда совершают максимально короткие поездки (менее 5 минут), среди пользователей с подпиской минимальное время поездки больше, как и максимальное. В то время как среднее время поездки больше у пользователей без подписки."
   ]
  },
  {
   "cell_type": "code",
   "execution_count": 30,
   "id": "b4f17947",
   "metadata": {},
   "outputs": [
    {
     "data": {
      "text/plain": [
       "Text(0, 0.5, 'Кол-во поездок')"
      ]
     },
     "execution_count": 30,
     "metadata": {},
     "output_type": "execute_result"
    },
    {
     "data": {
      "image/png": "[encoded data removed]",
      "text/plain": [
       "<Figure size 640x480 with 1 Axes>"
      ]
     },
     "metadata": {},
     "output_type": "display_data"
    }
   ],
   "source": [
    "subscription_free['distance'].plot(kind='hist', histtype='step', label='Без подписки', legend=True, grid=True)\n",
    "subscription_ultra['distance'].plot(kind='hist', histtype='step', label='С подпиской', legend=True, grid=True)\n",
    "plt.title('Распределение расстояния поездки для пользователей с подпиской и без')\n",
    "plt.xlabel('Расстояние поездки (в метрах)')\n",
    "plt.ylabel('Кол-во поездок')"
   ]
  },
  {
   "cell_type": "markdown",
   "id": "dd519065",
   "metadata": {},
   "source": [
    "По диаграмме видно, что пользоваели с подпиской гораздо чаще проезжают расстояние 2.5-3.5 км, в остальнх случаях самокатами пользуются редко. А пользователи без подписки почти одинаково часто проезжают как 2, так и 4 км. Минимальное время поездки у пользователей без подписки меньше (около 0), а максимальное, наоборот больше (примерно 6.5 км против 5.5)."
   ]
  },
  {
   "cell_type": "markdown",
   "id": "d902dea4",
   "metadata": {},
   "source": [
    "#### Шаг 5. Подсчёт выручки\n",
    "\n",
    "Подсчитаем выручку каждого пользователя по месяцам. Для начала создадим сводную таблицу, где подсчитаем общее кол-во поездок, общую дистанцию и продолжительность поездок для каждого пользователя с разбивкой по месяцам."
   ]
  },
  {
   "cell_type": "code",
   "execution_count": 31,
   "id": "51856bdb",
   "metadata": {},
   "outputs": [
    {
     "data": {
      "text/html": [
       "<div>\n",
       "<style scoped>\n",
       "    .dataframe tbody tr th:only-of-type {\n",
       "        vertical-align: middle;\n",
       "    }\n",
       "\n",
       "    .dataframe tbody tr th {\n",
       "        vertical-align: top;\n",
       "    }\n",
       "\n",
       "    .dataframe thead th {\n",
       "        text-align: right;\n",
       "    }\n",
       "</style>\n",
       "<table border=\"1\" class=\"dataframe\">\n",
       "  <thead>\n",
       "    <tr style=\"text-align: right;\">\n",
       "      <th></th>\n",
       "      <th></th>\n",
       "      <th>date</th>\n",
       "      <th>distance</th>\n",
       "      <th>duration</th>\n",
       "      <th>minute_price</th>\n",
       "      <th>start_ride_price</th>\n",
       "      <th>subscription_fee</th>\n",
       "      <th>subscription_type</th>\n",
       "    </tr>\n",
       "    <tr>\n",
       "      <th>user_id</th>\n",
       "      <th>month</th>\n",
       "      <th></th>\n",
       "      <th></th>\n",
       "      <th></th>\n",
       "      <th></th>\n",
       "      <th></th>\n",
       "      <th></th>\n",
       "      <th></th>\n",
       "    </tr>\n",
       "  </thead>\n",
       "  <tbody>\n",
       "    <tr>\n",
       "      <th rowspan=\"6\" valign=\"top\">1</th>\n",
       "      <th>1</th>\n",
       "      <td>2</td>\n",
       "      <td>7027.511294</td>\n",
       "      <td>42.0</td>\n",
       "      <td>6</td>\n",
       "      <td>0</td>\n",
       "      <td>199</td>\n",
       "      <td>ultra</td>\n",
       "    </tr>\n",
       "    <tr>\n",
       "      <th>4</th>\n",
       "      <td>1</td>\n",
       "      <td>754.159807</td>\n",
       "      <td>7.0</td>\n",
       "      <td>6</td>\n",
       "      <td>0</td>\n",
       "      <td>199</td>\n",
       "      <td>ultra</td>\n",
       "    </tr>\n",
       "    <tr>\n",
       "      <th>8</th>\n",
       "      <td>2</td>\n",
       "      <td>6723.470560</td>\n",
       "      <td>46.0</td>\n",
       "      <td>6</td>\n",
       "      <td>0</td>\n",
       "      <td>199</td>\n",
       "      <td>ultra</td>\n",
       "    </tr>\n",
       "    <tr>\n",
       "      <th>10</th>\n",
       "      <td>2</td>\n",
       "      <td>5809.911100</td>\n",
       "      <td>32.0</td>\n",
       "      <td>6</td>\n",
       "      <td>0</td>\n",
       "      <td>199</td>\n",
       "      <td>ultra</td>\n",
       "    </tr>\n",
       "    <tr>\n",
       "      <th>11</th>\n",
       "      <td>3</td>\n",
       "      <td>7003.499363</td>\n",
       "      <td>56.0</td>\n",
       "      <td>6</td>\n",
       "      <td>0</td>\n",
       "      <td>199</td>\n",
       "      <td>ultra</td>\n",
       "    </tr>\n",
       "    <tr>\n",
       "      <th>12</th>\n",
       "      <td>2</td>\n",
       "      <td>6751.629942</td>\n",
       "      <td>28.0</td>\n",
       "      <td>6</td>\n",
       "      <td>0</td>\n",
       "      <td>199</td>\n",
       "      <td>ultra</td>\n",
       "    </tr>\n",
       "    <tr>\n",
       "      <th rowspan=\"4\" valign=\"top\">2</th>\n",
       "      <th>3</th>\n",
       "      <td>3</td>\n",
       "      <td>10187.723006</td>\n",
       "      <td>63.0</td>\n",
       "      <td>6</td>\n",
       "      <td>0</td>\n",
       "      <td>199</td>\n",
       "      <td>ultra</td>\n",
       "    </tr>\n",
       "    <tr>\n",
       "      <th>4</th>\n",
       "      <td>2</td>\n",
       "      <td>6164.381824</td>\n",
       "      <td>40.0</td>\n",
       "      <td>6</td>\n",
       "      <td>0</td>\n",
       "      <td>199</td>\n",
       "      <td>ultra</td>\n",
       "    </tr>\n",
       "    <tr>\n",
       "      <th>6</th>\n",
       "      <td>1</td>\n",
       "      <td>3255.338202</td>\n",
       "      <td>14.0</td>\n",
       "      <td>6</td>\n",
       "      <td>0</td>\n",
       "      <td>199</td>\n",
       "      <td>ultra</td>\n",
       "    </tr>\n",
       "    <tr>\n",
       "      <th>7</th>\n",
       "      <td>2</td>\n",
       "      <td>6780.722964</td>\n",
       "      <td>48.0</td>\n",
       "      <td>6</td>\n",
       "      <td>0</td>\n",
       "      <td>199</td>\n",
       "      <td>ultra</td>\n",
       "    </tr>\n",
       "  </tbody>\n",
       "</table>\n",
       "</div>"
      ],
      "text/plain": [
       "               date      distance  duration  minute_price  start_ride_price  \\\n",
       "user_id month                                                                 \n",
       "1       1         2   7027.511294      42.0             6                 0   \n",
       "        4         1    754.159807       7.0             6                 0   \n",
       "        8         2   6723.470560      46.0             6                 0   \n",
       "        10        2   5809.911100      32.0             6                 0   \n",
       "        11        3   7003.499363      56.0             6                 0   \n",
       "        12        2   6751.629942      28.0             6                 0   \n",
       "2       3         3  10187.723006      63.0             6                 0   \n",
       "        4         2   6164.381824      40.0             6                 0   \n",
       "        6         1   3255.338202      14.0             6                 0   \n",
       "        7         2   6780.722964      48.0             6                 0   \n",
       "\n",
       "               subscription_fee subscription_type  \n",
       "user_id month                                      \n",
       "1       1                   199             ultra  \n",
       "        4                   199             ultra  \n",
       "        8                   199             ultra  \n",
       "        10                  199             ultra  \n",
       "        11                  199             ultra  \n",
       "        12                  199             ultra  \n",
       "2       3                   199             ultra  \n",
       "        4                   199             ultra  \n",
       "        6                   199             ultra  \n",
       "        7                   199             ultra  "
      ]
     },
     "execution_count": 31,
     "metadata": {},
     "output_type": "execute_result"
    }
   ],
   "source": [
    "data['duration'] = np.ceil(data['duration']) #округлим значения продолжительности поездки и перезапишем\n",
    "main_rides_data = data.pivot_table(index=['user_id', 'month'], values=['distance', 'date', 'duration', 'start_ride_price', 'minute_price', 'subscription_fee', 'subscription_type'], aggfunc={\n",
    "    'distance' : 'sum', 'date' : 'count', 'duration': 'sum', 'start_ride_price' : 'first', 'minute_price' : 'first', 'subscription_fee' : 'first', 'subscription_type' : 'first'}) #создадим сводную таблицу\n",
    "main_rides_data.head(10) #проверим результат"
   ]
  },
  {
   "cell_type": "code",
   "execution_count": 32,
   "id": "bc260f4b",
   "metadata": {},
   "outputs": [
    {
     "data": {
      "text/html": [
       "<div>\n",
       "<style scoped>\n",
       "    .dataframe tbody tr th:only-of-type {\n",
       "        vertical-align: middle;\n",
       "    }\n",
       "\n",
       "    .dataframe tbody tr th {\n",
       "        vertical-align: top;\n",
       "    }\n",
       "\n",
       "    .dataframe thead th {\n",
       "        text-align: right;\n",
       "    }\n",
       "</style>\n",
       "<table border=\"1\" class=\"dataframe\">\n",
       "  <thead>\n",
       "    <tr style=\"text-align: right;\">\n",
       "      <th></th>\n",
       "      <th>user_id</th>\n",
       "      <th>month</th>\n",
       "      <th>date</th>\n",
       "      <th>distance</th>\n",
       "      <th>duration</th>\n",
       "      <th>minute_price</th>\n",
       "      <th>start_ride_price</th>\n",
       "      <th>subscription_fee</th>\n",
       "      <th>subscription_type</th>\n",
       "    </tr>\n",
       "  </thead>\n",
       "  <tbody>\n",
       "    <tr>\n",
       "      <th>0</th>\n",
       "      <td>1</td>\n",
       "      <td>1</td>\n",
       "      <td>2</td>\n",
       "      <td>7027.511294</td>\n",
       "      <td>42.0</td>\n",
       "      <td>6</td>\n",
       "      <td>0</td>\n",
       "      <td>199</td>\n",
       "      <td>ultra</td>\n",
       "    </tr>\n",
       "    <tr>\n",
       "      <th>1</th>\n",
       "      <td>1</td>\n",
       "      <td>4</td>\n",
       "      <td>1</td>\n",
       "      <td>754.159807</td>\n",
       "      <td>7.0</td>\n",
       "      <td>6</td>\n",
       "      <td>0</td>\n",
       "      <td>199</td>\n",
       "      <td>ultra</td>\n",
       "    </tr>\n",
       "    <tr>\n",
       "      <th>2</th>\n",
       "      <td>1</td>\n",
       "      <td>8</td>\n",
       "      <td>2</td>\n",
       "      <td>6723.470560</td>\n",
       "      <td>46.0</td>\n",
       "      <td>6</td>\n",
       "      <td>0</td>\n",
       "      <td>199</td>\n",
       "      <td>ultra</td>\n",
       "    </tr>\n",
       "    <tr>\n",
       "      <th>3</th>\n",
       "      <td>1</td>\n",
       "      <td>10</td>\n",
       "      <td>2</td>\n",
       "      <td>5809.911100</td>\n",
       "      <td>32.0</td>\n",
       "      <td>6</td>\n",
       "      <td>0</td>\n",
       "      <td>199</td>\n",
       "      <td>ultra</td>\n",
       "    </tr>\n",
       "    <tr>\n",
       "      <th>4</th>\n",
       "      <td>1</td>\n",
       "      <td>11</td>\n",
       "      <td>3</td>\n",
       "      <td>7003.499363</td>\n",
       "      <td>56.0</td>\n",
       "      <td>6</td>\n",
       "      <td>0</td>\n",
       "      <td>199</td>\n",
       "      <td>ultra</td>\n",
       "    </tr>\n",
       "    <tr>\n",
       "      <th>5</th>\n",
       "      <td>1</td>\n",
       "      <td>12</td>\n",
       "      <td>2</td>\n",
       "      <td>6751.629942</td>\n",
       "      <td>28.0</td>\n",
       "      <td>6</td>\n",
       "      <td>0</td>\n",
       "      <td>199</td>\n",
       "      <td>ultra</td>\n",
       "    </tr>\n",
       "    <tr>\n",
       "      <th>6</th>\n",
       "      <td>2</td>\n",
       "      <td>3</td>\n",
       "      <td>3</td>\n",
       "      <td>10187.723006</td>\n",
       "      <td>63.0</td>\n",
       "      <td>6</td>\n",
       "      <td>0</td>\n",
       "      <td>199</td>\n",
       "      <td>ultra</td>\n",
       "    </tr>\n",
       "    <tr>\n",
       "      <th>7</th>\n",
       "      <td>2</td>\n",
       "      <td>4</td>\n",
       "      <td>2</td>\n",
       "      <td>6164.381824</td>\n",
       "      <td>40.0</td>\n",
       "      <td>6</td>\n",
       "      <td>0</td>\n",
       "      <td>199</td>\n",
       "      <td>ultra</td>\n",
       "    </tr>\n",
       "    <tr>\n",
       "      <th>8</th>\n",
       "      <td>2</td>\n",
       "      <td>6</td>\n",
       "      <td>1</td>\n",
       "      <td>3255.338202</td>\n",
       "      <td>14.0</td>\n",
       "      <td>6</td>\n",
       "      <td>0</td>\n",
       "      <td>199</td>\n",
       "      <td>ultra</td>\n",
       "    </tr>\n",
       "    <tr>\n",
       "      <th>9</th>\n",
       "      <td>2</td>\n",
       "      <td>7</td>\n",
       "      <td>2</td>\n",
       "      <td>6780.722964</td>\n",
       "      <td>48.0</td>\n",
       "      <td>6</td>\n",
       "      <td>0</td>\n",
       "      <td>199</td>\n",
       "      <td>ultra</td>\n",
       "    </tr>\n",
       "  </tbody>\n",
       "</table>\n",
       "</div>"
      ],
      "text/plain": [
       "   user_id  month  date      distance  duration  minute_price  \\\n",
       "0        1      1     2   7027.511294      42.0             6   \n",
       "1        1      4     1    754.159807       7.0             6   \n",
       "2        1      8     2   6723.470560      46.0             6   \n",
       "3        1     10     2   5809.911100      32.0             6   \n",
       "4        1     11     3   7003.499363      56.0             6   \n",
       "5        1     12     2   6751.629942      28.0             6   \n",
       "6        2      3     3  10187.723006      63.0             6   \n",
       "7        2      4     2   6164.381824      40.0             6   \n",
       "8        2      6     1   3255.338202      14.0             6   \n",
       "9        2      7     2   6780.722964      48.0             6   \n",
       "\n",
       "   start_ride_price  subscription_fee subscription_type  \n",
       "0                 0               199             ultra  \n",
       "1                 0               199             ultra  \n",
       "2                 0               199             ultra  \n",
       "3                 0               199             ultra  \n",
       "4                 0               199             ultra  \n",
       "5                 0               199             ultra  \n",
       "6                 0               199             ultra  \n",
       "7                 0               199             ultra  \n",
       "8                 0               199             ultra  \n",
       "9                 0               199             ultra  "
      ]
     },
     "execution_count": 32,
     "metadata": {},
     "output_type": "execute_result"
    }
   ],
   "source": [
    "main_rides_data =  main_rides_data.rename_axis(None, axis=1).reset_index() #сбросим индексы и иерархию индексов\n",
    "main_rides_data.head(10) #проверим результат"
   ]
  },
  {
   "cell_type": "markdown",
   "id": "5269d83c",
   "metadata": {},
   "source": [
    "Переименуем столбцы в соответствии с их смыслом:"
   ]
  },
  {
   "cell_type": "code",
   "execution_count": 33,
   "id": "60fb9c09",
   "metadata": {},
   "outputs": [
    {
     "data": {
      "text/html": [
       "<div>\n",
       "<style scoped>\n",
       "    .dataframe tbody tr th:only-of-type {\n",
       "        vertical-align: middle;\n",
       "    }\n",
       "\n",
       "    .dataframe tbody tr th {\n",
       "        vertical-align: top;\n",
       "    }\n",
       "\n",
       "    .dataframe thead th {\n",
       "        text-align: right;\n",
       "    }\n",
       "</style>\n",
       "<table border=\"1\" class=\"dataframe\">\n",
       "  <thead>\n",
       "    <tr style=\"text-align: right;\">\n",
       "      <th></th>\n",
       "      <th>user_id</th>\n",
       "      <th>month</th>\n",
       "      <th>count_ride</th>\n",
       "      <th>sum_distance</th>\n",
       "      <th>sum_duration</th>\n",
       "      <th>minute_price</th>\n",
       "      <th>start_ride_price</th>\n",
       "      <th>subscription_fee</th>\n",
       "      <th>subscription_type</th>\n",
       "    </tr>\n",
       "  </thead>\n",
       "  <tbody>\n",
       "    <tr>\n",
       "      <th>0</th>\n",
       "      <td>1</td>\n",
       "      <td>1</td>\n",
       "      <td>2</td>\n",
       "      <td>7027.511294</td>\n",
       "      <td>42.0</td>\n",
       "      <td>6</td>\n",
       "      <td>0</td>\n",
       "      <td>199</td>\n",
       "      <td>ultra</td>\n",
       "    </tr>\n",
       "    <tr>\n",
       "      <th>1</th>\n",
       "      <td>1</td>\n",
       "      <td>4</td>\n",
       "      <td>1</td>\n",
       "      <td>754.159807</td>\n",
       "      <td>7.0</td>\n",
       "      <td>6</td>\n",
       "      <td>0</td>\n",
       "      <td>199</td>\n",
       "      <td>ultra</td>\n",
       "    </tr>\n",
       "    <tr>\n",
       "      <th>2</th>\n",
       "      <td>1</td>\n",
       "      <td>8</td>\n",
       "      <td>2</td>\n",
       "      <td>6723.470560</td>\n",
       "      <td>46.0</td>\n",
       "      <td>6</td>\n",
       "      <td>0</td>\n",
       "      <td>199</td>\n",
       "      <td>ultra</td>\n",
       "    </tr>\n",
       "    <tr>\n",
       "      <th>3</th>\n",
       "      <td>1</td>\n",
       "      <td>10</td>\n",
       "      <td>2</td>\n",
       "      <td>5809.911100</td>\n",
       "      <td>32.0</td>\n",
       "      <td>6</td>\n",
       "      <td>0</td>\n",
       "      <td>199</td>\n",
       "      <td>ultra</td>\n",
       "    </tr>\n",
       "    <tr>\n",
       "      <th>4</th>\n",
       "      <td>1</td>\n",
       "      <td>11</td>\n",
       "      <td>3</td>\n",
       "      <td>7003.499363</td>\n",
       "      <td>56.0</td>\n",
       "      <td>6</td>\n",
       "      <td>0</td>\n",
       "      <td>199</td>\n",
       "      <td>ultra</td>\n",
       "    </tr>\n",
       "  </tbody>\n",
       "</table>\n",
       "</div>"
      ],
      "text/plain": [
       "   user_id  month  count_ride  sum_distance  sum_duration  minute_price  \\\n",
       "0        1      1           2   7027.511294          42.0             6   \n",
       "1        1      4           1    754.159807           7.0             6   \n",
       "2        1      8           2   6723.470560          46.0             6   \n",
       "3        1     10           2   5809.911100          32.0             6   \n",
       "4        1     11           3   7003.499363          56.0             6   \n",
       "\n",
       "   start_ride_price  subscription_fee subscription_type  \n",
       "0                 0               199             ultra  \n",
       "1                 0               199             ultra  \n",
       "2                 0               199             ultra  \n",
       "3                 0               199             ultra  \n",
       "4                 0               199             ultra  "
      ]
     },
     "execution_count": 33,
     "metadata": {},
     "output_type": "execute_result"
    }
   ],
   "source": [
    "main_rides_data.rename(columns = {'date' : 'count_ride', 'distance' : 'sum_distance', 'duration' : 'sum_duration'}, inplace = True)\n",
    "main_rides_data.head()"
   ]
  },
  {
   "cell_type": "markdown",
   "id": "b64b6fd6",
   "metadata": {},
   "source": [
    "Расчитаем выручку для каждой строки таблицы и добавим в новую колонку."
   ]
  },
  {
   "cell_type": "code",
   "execution_count": 34,
   "id": "ed5f58c2",
   "metadata": {},
   "outputs": [
    {
     "data": {
      "text/html": [
       "<div>\n",
       "<style scoped>\n",
       "    .dataframe tbody tr th:only-of-type {\n",
       "        vertical-align: middle;\n",
       "    }\n",
       "\n",
       "    .dataframe tbody tr th {\n",
       "        vertical-align: top;\n",
       "    }\n",
       "\n",
       "    .dataframe thead th {\n",
       "        text-align: right;\n",
       "    }\n",
       "</style>\n",
       "<table border=\"1\" class=\"dataframe\">\n",
       "  <thead>\n",
       "    <tr style=\"text-align: right;\">\n",
       "      <th></th>\n",
       "      <th>user_id</th>\n",
       "      <th>month</th>\n",
       "      <th>count_ride</th>\n",
       "      <th>sum_distance</th>\n",
       "      <th>sum_duration</th>\n",
       "      <th>revenue</th>\n",
       "      <th>subscription_type</th>\n",
       "    </tr>\n",
       "  </thead>\n",
       "  <tbody>\n",
       "    <tr>\n",
       "      <th>0</th>\n",
       "      <td>1</td>\n",
       "      <td>1</td>\n",
       "      <td>2</td>\n",
       "      <td>7027.511294</td>\n",
       "      <td>42.0</td>\n",
       "      <td>451.0</td>\n",
       "      <td>ultra</td>\n",
       "    </tr>\n",
       "    <tr>\n",
       "      <th>1</th>\n",
       "      <td>1</td>\n",
       "      <td>4</td>\n",
       "      <td>1</td>\n",
       "      <td>754.159807</td>\n",
       "      <td>7.0</td>\n",
       "      <td>241.0</td>\n",
       "      <td>ultra</td>\n",
       "    </tr>\n",
       "    <tr>\n",
       "      <th>2</th>\n",
       "      <td>1</td>\n",
       "      <td>8</td>\n",
       "      <td>2</td>\n",
       "      <td>6723.470560</td>\n",
       "      <td>46.0</td>\n",
       "      <td>475.0</td>\n",
       "      <td>ultra</td>\n",
       "    </tr>\n",
       "    <tr>\n",
       "      <th>3</th>\n",
       "      <td>1</td>\n",
       "      <td>10</td>\n",
       "      <td>2</td>\n",
       "      <td>5809.911100</td>\n",
       "      <td>32.0</td>\n",
       "      <td>391.0</td>\n",
       "      <td>ultra</td>\n",
       "    </tr>\n",
       "    <tr>\n",
       "      <th>4</th>\n",
       "      <td>1</td>\n",
       "      <td>11</td>\n",
       "      <td>3</td>\n",
       "      <td>7003.499363</td>\n",
       "      <td>56.0</td>\n",
       "      <td>535.0</td>\n",
       "      <td>ultra</td>\n",
       "    </tr>\n",
       "    <tr>\n",
       "      <th>5</th>\n",
       "      <td>1</td>\n",
       "      <td>12</td>\n",
       "      <td>2</td>\n",
       "      <td>6751.629942</td>\n",
       "      <td>28.0</td>\n",
       "      <td>367.0</td>\n",
       "      <td>ultra</td>\n",
       "    </tr>\n",
       "    <tr>\n",
       "      <th>6</th>\n",
       "      <td>2</td>\n",
       "      <td>3</td>\n",
       "      <td>3</td>\n",
       "      <td>10187.723006</td>\n",
       "      <td>63.0</td>\n",
       "      <td>577.0</td>\n",
       "      <td>ultra</td>\n",
       "    </tr>\n",
       "    <tr>\n",
       "      <th>7</th>\n",
       "      <td>2</td>\n",
       "      <td>4</td>\n",
       "      <td>2</td>\n",
       "      <td>6164.381824</td>\n",
       "      <td>40.0</td>\n",
       "      <td>439.0</td>\n",
       "      <td>ultra</td>\n",
       "    </tr>\n",
       "    <tr>\n",
       "      <th>8</th>\n",
       "      <td>2</td>\n",
       "      <td>6</td>\n",
       "      <td>1</td>\n",
       "      <td>3255.338202</td>\n",
       "      <td>14.0</td>\n",
       "      <td>283.0</td>\n",
       "      <td>ultra</td>\n",
       "    </tr>\n",
       "    <tr>\n",
       "      <th>9</th>\n",
       "      <td>2</td>\n",
       "      <td>7</td>\n",
       "      <td>2</td>\n",
       "      <td>6780.722964</td>\n",
       "      <td>48.0</td>\n",
       "      <td>487.0</td>\n",
       "      <td>ultra</td>\n",
       "    </tr>\n",
       "  </tbody>\n",
       "</table>\n",
       "</div>"
      ],
      "text/plain": [
       "   user_id  month  count_ride  sum_distance  sum_duration  revenue  \\\n",
       "0        1      1           2   7027.511294          42.0    451.0   \n",
       "1        1      4           1    754.159807           7.0    241.0   \n",
       "2        1      8           2   6723.470560          46.0    475.0   \n",
       "3        1     10           2   5809.911100          32.0    391.0   \n",
       "4        1     11           3   7003.499363          56.0    535.0   \n",
       "5        1     12           2   6751.629942          28.0    367.0   \n",
       "6        2      3           3  10187.723006          63.0    577.0   \n",
       "7        2      4           2   6164.381824          40.0    439.0   \n",
       "8        2      6           1   3255.338202          14.0    283.0   \n",
       "9        2      7           2   6780.722964          48.0    487.0   \n",
       "\n",
       "  subscription_type  \n",
       "0             ultra  \n",
       "1             ultra  \n",
       "2             ultra  \n",
       "3             ultra  \n",
       "4             ultra  \n",
       "5             ultra  \n",
       "6             ultra  \n",
       "7             ultra  \n",
       "8             ultra  \n",
       "9             ultra  "
      ]
     },
     "execution_count": 34,
     "metadata": {},
     "output_type": "execute_result"
    }
   ],
   "source": [
    "main_rides_data['revenue'] = (main_rides_data['start_ride_price'] * main_rides_data['count_ride']) + (main_rides_data['minute_price'] * main_rides_data['sum_duration']) + main_rides_data['subscription_fee']\n",
    "main_rides_data = main_rides_data[['user_id', 'month', 'count_ride', 'sum_distance', 'sum_duration', 'revenue', 'subscription_type']] #оставим в таблице только нужные данные\n",
    "main_rides_data.head(10) #проверим результат"
   ]
  },
  {
   "cell_type": "markdown",
   "id": "f4afaced",
   "metadata": {},
   "source": [
    "#### Шаг 6. Проверка гипотез\n",
    "\n",
    "1. Важно понять, тратят ли пользователи с подпиской больше времени на поездки? Если да, то пользователи с подпиской могут быть «выгоднее» для компании. Проверьте гипотезу. Используйте исходные данные о продолжительности каждой сессии — отдельно для подписчиков и тех, у кого нет подписки.\n",
    "\n",
    "За нулевую гипотезу примем утверждение, что \"пользователи с подпиской и без тратят одинаковое количество времени на поездки\". В качестве альтернативной гипотезы рассмотрим утверждение о том, что \"пользователи с подпиской тратят больше времени на поездки, чес пользователи без подписки\"."
   ]
  },
  {
   "cell_type": "code",
   "execution_count": 35,
   "id": "99ff0f17",
   "metadata": {},
   "outputs": [
    {
     "name": "stdout",
     "output_type": "stream",
     "text": [
      "p-значение: 1.2804098316645618e-34\n",
      "Отвергаем нулевую гипотезу: есть основания полагать, что пользователи с подпиской тратят большее количество времени на поездки\n",
      "Средняя продолжительность поездки для пользователей с подпиской составляет 18.54198516280583\n",
      "Средняя продолжительность поездки для пользователей без подписки составляет 17.39090929866399\n"
     ]
    }
   ],
   "source": [
    "alpha = 0.05 #зададим порог отбрасывания нулевой гипотезы\n",
    "#подсчитаем верояиность того, что нулевая гипотеза может быть верна\n",
    "results = st.ttest_ind(subscription_ultra['duration'], subscription_free['duration'], alternative='greater')\n",
    "\n",
    "print('p-значение:', results.pvalue)\n",
    "#сравним полченное значение с пороговым\n",
    "if results.pvalue < alpha:\n",
    "    print('Отвергаем нулевую гипотезу: есть основания полагать, что пользователи с подпиской тратят большее количество времени на поездки')\n",
    "else:\n",
    "    print('Не получилось отвергнуть нулевую гипотезу: возможно, пользователи с подпиской и без тратят примерно одинаковое количество времени на поездки')\n",
    "    \n",
    "print('Средняя продолжительность поездки для пользователей с подпиской составляет', subscription_ultra['duration'].mean())\n",
    "print('Средняя продолжительность поездки для пользователей без подписки составляет', subscription_free['duration'].mean())"
   ]
  },
  {
   "cell_type": "markdown",
   "id": "522dbe8d",
   "metadata": {},
   "source": [
    "Судя по полученным результатам, гипотеза о том, что пользователи с подпиской тратят больше времени на поездки, чем пользователи без подписки, может быть верна. Средние значения в каждой категории это подтверждают."
   ]
  },
  {
   "cell_type": "markdown",
   "id": "5f4f413b",
   "metadata": {},
   "source": [
    "2. Расстояние одной поездки в 3130 метров — оптимальное с точки зрения износа самоката. Можно ли сказать, что расстояние, которое проезжают пользователи с подпиской за одну поездку, не превышает 3130 метров? Проверьте гипотезу и сделайте выводы.\n",
    "\n",
    "За нулевую гипотезу примем, что пользователи с подпиской за одну поездку проезжают расстояние, не превышающее 3130 метров, за альтернативную, что это расстояние больше 3130 метров."
   ]
  },
  {
   "cell_type": "code",
   "execution_count": 36,
   "id": "5b0ea240",
   "metadata": {},
   "outputs": [
    {
     "name": "stdout",
     "output_type": "stream",
     "text": [
      "p-значение: 0.9195368847849785\n",
      "Не получилось отвергнуть нулевую гипотезу: расстояние не превышает 3130 метров\n"
     ]
    }
   ],
   "source": [
    "interested_value = 3130\n",
    "\n",
    "alpha = 0.05 #зададим порог отбрасывания нулевой гипотезы\n",
    "#подсчитаем верояиность того, что нулевая гипотеза может быть верна\n",
    "results = st.ttest_1samp(subscription_ultra['distance'], interested_value, alternative='greater')\n",
    "\n",
    "print('p-значение:', results.pvalue)\n",
    "#сравним полченное значение с пороговым\n",
    "if results.pvalue < alpha:\n",
    "    print('Отвергаем нулевую гипотезу: расстояние больше 3130 метров')\n",
    "else:\n",
    "    print('Не получилось отвергнуть нулевую гипотезу: расстояние не превышает 3130 метров')"
   ]
  },
  {
   "cell_type": "markdown",
   "id": "89b4b3fb",
   "metadata": {},
   "source": [
    "Судя по полученным данным, так и есть, и пользователи укладываются в оптимальное расстояние."
   ]
  },
  {
   "cell_type": "markdown",
   "id": "ea00cfba",
   "metadata": {},
   "source": [
    "3. Проверьте гипотезу о том, будет ли помесячная выручка от пользователей с подпиской по месяцам выше, чем выручка от пользователей без подписки. Сделайте вывод.\n",
    "\n",
    "За нулевую гипотезу примем утверждение о том, что пользователи с подпиской и без приносят примерно одинаковое количество денег, за альтернативну - выручка от пользователей с подпиской больше. Проверим гипотезы."
   ]
  },
  {
   "cell_type": "code",
   "execution_count": 37,
   "id": "9d6c4d8e",
   "metadata": {},
   "outputs": [
    {
     "name": "stdout",
     "output_type": "stream",
     "text": [
      "p-значение: 1.8850394384715216e-31\n",
      "Отвергаем нулевую гипотезу: есть основания полагать, что пользователи с подпиской приносят больше денег, чем пользователи без подписки\n",
      "Среднее значение выручки для пользователей с подпиской составляет 362.7921906022502\n",
      "Среднее значение выручки для пользователей без подписки составляет 328.6413651073845\n"
     ]
    }
   ],
   "source": [
    "alpha = 0.05 #зададим порог отбрасывания нулевой гипотезы\n",
    "#отфильтруем данные о пользователях с подпиской и без\n",
    "results = st.ttest_ind(main_rides_data.loc[main_rides_data['subscription_type'] == 'ultra', 'revenue'], main_rides_data.loc[main_rides_data['subscription_type'] == 'free', 'revenue'], alternative='greater')\n",
    "\n",
    "print('p-значение:', results.pvalue)\n",
    "#сравним полченное значение с пороговым\n",
    "if results.pvalue < alpha:\n",
    "    print('Отвергаем нулевую гипотезу: есть основания полагать, что пользователи с подпиской приносят больше денег, чем пользователи без подписки')\n",
    "else:\n",
    "    print('Не получилось отвергнуть нулевую гипотезу: возможно, выручка от пользователей с подпиской и без примерно одинаковая')\n",
    "    \n",
    "print('Среднее значение выручки для пользователей с подпиской составляет', main_rides_data.loc[main_rides_data['subscription_type'] == 'ultra', 'revenue'].mean())\n",
    "print('Среднее значение выручки для пользователей без подписки составляет', main_rides_data.loc[main_rides_data['subscription_type'] == 'free', 'revenue'].mean())"
   ]
  },
  {
   "cell_type": "markdown",
   "id": "a4d5dbac",
   "metadata": {},
   "source": [
    "Полученные результаты позволяют думать, что альтернативная гипотеза может быть верна и пользователи с подпиской действительно приносят выручку больше, чем пользователи без подписки. Средние значения выручки по каждой категории пользователей это так же подтверждают."
   ]
  },
  {
   "cell_type": "markdown",
   "id": "4ab52825",
   "metadata": {},
   "source": [
    "4. Представьте такую ситуацию: техническая команда сервиса обновила сервера, с которыми взаимодействует мобильное приложение. Она надеется, что из-за этого количество обращений в техподдержку значимо снизилось. Некоторый файл содержит для каждого пользователя данные о количестве обращений до обновления и после него. Какой тест вам понадобился бы для проверки этой гипотезы?\n",
    "\n",
    "Ответ: для проверки такой гипотезы нам понадобился бы метод `stats.ttest_rel()`. С помощью него можно проверить гипотезы, основанные на зависимых друг от друга данных."
   ]
  },
  {
   "cell_type": "markdown",
   "id": "ef8f9a7b",
   "metadata": {},
   "source": [
    "### Вывод:\n",
    "\n",
    "Целью данного проекта являлось изучить данные сервиса аренды самокатов, проанализировать их и подтвердить или опровергнуть некоторые гипотезы.\n",
    "\n",
    "На этапе предобработки данных были преобразованы типы данных (дату привели к тику datetime), удалены дубликаты и выполнена проверка на неявные дубликаты.\n",
    "\n",
    "Далее изучили полученные данные и сделали промежуточные выводы:\n",
    "1. Города в данных распредены примерно одинаково.\n",
    "2. Пользователи без подписки пользуются сервисом немного чаще.\n",
    "3. Чаще всего сервисом пользуются люди возрастом 22-28 лет и реже подростки и люди старше 35 лет, распределение близко к нормальному.\n",
    "4. Наиболее часто пользователи проезжают на самокатах 2.5-4 км. Реже всего самокаты используют для аренды на дальние расстояния.\n",
    "5. Поездка в стреднем занимает 15-20 минут, распределение близко к нормальному.\n",
    "\n",
    "Для проверки гипотез данные были объединены, создана сводная таблица с подсчетом агрегированных данных, расчитана выручка для каждого пользователя по месяцам.\n",
    "\n",
    "При проверке гипотез были получены следующие результаты:\n",
    "1. Гипотеза о том, что пользователи с подпиской тратят больше времени на поездки, чем пользователи без подписки, может быть верна.\n",
    "2. Пользователи укладываются в оптимальное расстояние 3130 метров за одну поездку.\n",
    "3. Пользователи с подпиской действительно могут приносить выручку больше, чем пользователи без подписки."
   ]
  }
 ],
 "metadata": {
  "ExecuteTimeLog": [
   {
    "duration": 1358,
    "start_time": "2023-05-26T12:24:37.934Z"
   },
   {
    "duration": 201,
    "start_time": "2023-05-26T12:24:39.295Z"
   },
   {
    "duration": 13,
    "start_time": "2023-05-26T12:24:39.498Z"
   },
   {
    "duration": 11,
    "start_time": "2023-05-26T12:24:39.513Z"
   },
   {
    "duration": 14,
    "start_time": "2023-05-26T12:24:39.525Z"
   },
   {
    "duration": 26,
    "start_time": "2023-05-26T12:24:39.540Z"
   },
   {
    "duration": 22,
    "start_time": "2023-05-26T12:24:39.568Z"
   },
   {
    "duration": 17,
    "start_time": "2023-05-26T12:24:39.592Z"
   },
   {
    "duration": 15,
    "start_time": "2023-05-26T12:24:39.611Z"
   },
   {
    "duration": 11,
    "start_time": "2023-05-26T12:24:39.629Z"
   },
   {
    "duration": 14,
    "start_time": "2023-05-26T12:24:39.642Z"
   },
   {
    "duration": 32,
    "start_time": "2023-05-26T12:24:39.658Z"
   },
   {
    "duration": 14,
    "start_time": "2023-05-26T12:24:39.691Z"
   },
   {
    "duration": 5,
    "start_time": "2023-05-26T12:24:39.707Z"
   },
   {
    "duration": 140,
    "start_time": "2023-05-26T12:24:39.713Z"
   },
   {
    "duration": 101,
    "start_time": "2023-05-26T12:24:39.854Z"
   },
   {
    "duration": 128,
    "start_time": "2023-05-26T12:24:39.957Z"
   },
   {
    "duration": 132,
    "start_time": "2023-05-26T12:24:40.086Z"
   },
   {
    "duration": 129,
    "start_time": "2023-05-26T12:24:40.220Z"
   },
   {
    "duration": 23,
    "start_time": "2023-05-26T12:24:40.351Z"
   },
   {
    "duration": 29,
    "start_time": "2023-05-26T12:24:40.376Z"
   },
   {
    "duration": 26,
    "start_time": "2023-05-26T12:24:40.406Z"
   },
   {
    "duration": 13,
    "start_time": "2023-05-26T12:24:40.434Z"
   },
   {
    "duration": 138,
    "start_time": "2023-05-26T12:24:40.449Z"
   },
   {
    "duration": 118,
    "start_time": "2023-05-26T12:24:40.589Z"
   },
   {
    "duration": 139,
    "start_time": "2023-05-26T12:24:40.709Z"
   },
   {
    "duration": 141,
    "start_time": "2023-05-26T12:24:40.849Z"
   },
   {
    "duration": 28,
    "start_time": "2023-05-26T12:24:40.993Z"
   },
   {
    "duration": 11,
    "start_time": "2023-05-26T12:24:41.022Z"
   },
   {
    "duration": 25,
    "start_time": "2023-05-26T12:24:41.034Z"
   },
   {
    "duration": 99,
    "start_time": "2023-05-26T12:24:41.061Z"
   },
   {
    "duration": 12,
    "start_time": "2023-05-26T12:24:41.162Z"
   },
   {
    "duration": 4,
    "start_time": "2023-05-26T12:24:41.176Z"
   },
   {
    "duration": 5,
    "start_time": "2023-05-26T12:24:41.182Z"
   },
   {
    "duration": 12,
    "start_time": "2023-05-26T12:24:41.188Z"
   },
   {
    "duration": 18,
    "start_time": "2023-05-26T12:47:08.732Z"
   },
   {
    "duration": 12,
    "start_time": "2023-05-26T12:49:17.123Z"
   },
   {
    "duration": 6,
    "start_time": "2023-05-26T12:50:24.490Z"
   },
   {
    "duration": 1124,
    "start_time": "2023-05-26T12:54:50.464Z"
   },
   {
    "duration": 68,
    "start_time": "2023-05-26T12:54:51.590Z"
   },
   {
    "duration": 20,
    "start_time": "2023-05-26T12:54:51.661Z"
   },
   {
    "duration": 25,
    "start_time": "2023-05-26T12:54:51.684Z"
   },
   {
    "duration": 51,
    "start_time": "2023-05-26T12:54:51.712Z"
   },
   {
    "duration": 39,
    "start_time": "2023-05-26T12:54:51.765Z"
   },
   {
    "duration": 32,
    "start_time": "2023-05-26T12:54:51.805Z"
   },
   {
    "duration": 62,
    "start_time": "2023-05-26T12:54:51.838Z"
   },
   {
    "duration": 62,
    "start_time": "2023-05-26T12:54:51.903Z"
   },
   {
    "duration": 56,
    "start_time": "2023-05-26T12:54:51.967Z"
   },
   {
    "duration": 24,
    "start_time": "2023-05-26T12:54:52.025Z"
   },
   {
    "duration": 15,
    "start_time": "2023-05-26T12:54:52.051Z"
   },
   {
    "duration": 10,
    "start_time": "2023-05-26T12:54:52.067Z"
   },
   {
    "duration": 14,
    "start_time": "2023-05-26T12:54:52.079Z"
   },
   {
    "duration": 161,
    "start_time": "2023-05-26T12:54:52.094Z"
   },
   {
    "duration": 97,
    "start_time": "2023-05-26T12:54:52.257Z"
   },
   {
    "duration": 130,
    "start_time": "2023-05-26T12:54:52.356Z"
   },
   {
    "duration": 180,
    "start_time": "2023-05-26T12:54:52.489Z"
   },
   {
    "duration": 133,
    "start_time": "2023-05-26T12:54:52.671Z"
   },
   {
    "duration": 27,
    "start_time": "2023-05-26T12:54:52.806Z"
   },
   {
    "duration": 35,
    "start_time": "2023-05-26T12:54:52.834Z"
   },
   {
    "duration": 17,
    "start_time": "2023-05-26T12:54:52.871Z"
   },
   {
    "duration": 23,
    "start_time": "2023-05-26T12:54:52.889Z"
   },
   {
    "duration": 131,
    "start_time": "2023-05-26T12:54:52.913Z"
   },
   {
    "duration": 119,
    "start_time": "2023-05-26T12:54:53.046Z"
   },
   {
    "duration": 135,
    "start_time": "2023-05-26T12:54:53.166Z"
   },
   {
    "duration": 125,
    "start_time": "2023-05-26T12:54:53.302Z"
   },
   {
    "duration": 23,
    "start_time": "2023-05-26T12:54:53.430Z"
   },
   {
    "duration": 12,
    "start_time": "2023-05-26T12:54:53.455Z"
   },
   {
    "duration": 17,
    "start_time": "2023-05-26T12:54:53.468Z"
   },
   {
    "duration": 117,
    "start_time": "2023-05-26T12:54:53.486Z"
   },
   {
    "duration": 14,
    "start_time": "2023-05-26T12:54:53.605Z"
   },
   {
    "duration": 16,
    "start_time": "2023-05-26T12:54:53.620Z"
   },
   {
    "duration": 12,
    "start_time": "2023-05-26T12:54:53.638Z"
   },
   {
    "duration": 9,
    "start_time": "2023-05-26T12:54:53.652Z"
   }
  ],
  "kernelspec": {
   "display_name": "Python 3 (ipykernel)",
   "language": "python",
   "name": "python3"
  },
  "language_info": {
   "codemirror_mode": {
    "name": "ipython",
    "version": 3
   },
   "file_extension": ".py",
   "mimetype": "text/x-python",
   "name": "python",
   "nbconvert_exporter": "python",
   "pygments_lexer": "ipython3",
   "version": "3.10.9"
  },
  "toc": {
   "base_numbering": 1,
   "nav_menu": {},
   "number_sections": true,
   "sideBar": true,
   "skip_h1_title": true,
   "title_cell": "Table of Contents",
   "title_sidebar": "Contents",
   "toc_cell": false,
   "toc_position": {},
   "toc_section_display": true,
   "toc_window_display": false
  }
 },
 "nbformat": 4,
 "nbformat_minor": 5
}
